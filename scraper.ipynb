{
 "cells": [
  {
   "cell_type": "code",
   "id": "initial_id",
   "metadata": {
    "collapsed": true,
    "ExecuteTime": {
     "end_time": "2024-06-23T08:16:59.630869Z",
     "start_time": "2024-06-23T08:16:56.414910Z"
    }
   },
   "source": [
    "import requests\n",
    "import pandas as pd\n",
    "import matplotlib.pyplot as plt"
   ],
   "outputs": [],
   "execution_count": 1
  },
  {
   "metadata": {
    "ExecuteTime": {
     "end_time": "2024-06-21T19:41:47.653157Z",
     "start_time": "2024-06-21T19:41:47.639714Z"
    }
   },
   "cell_type": "code",
   "source": "url = \"https://covid.ourworldindata.org/data/internal/megafile--stringency.json\"",
   "id": "732cf3236fcc7aa2",
   "outputs": [],
   "execution_count": 2
  },
  {
   "metadata": {
    "ExecuteTime": {
     "end_time": "2024-06-21T19:41:49.531016Z",
     "start_time": "2024-06-21T19:41:47.653157Z"
    }
   },
   "cell_type": "code",
   "source": [
    "response = requests.get(url)\n",
    "data = response.json()"
   ],
   "id": "229f0c8232b55b97",
   "outputs": [],
   "execution_count": 3
  },
  {
   "metadata": {
    "ExecuteTime": {
     "end_time": "2024-06-21T19:41:50.833512Z",
     "start_time": "2024-06-21T19:41:50.634750Z"
    }
   },
   "cell_type": "code",
   "source": [
    "stringency_df = pd.DataFrame(data)\n",
    "\n",
    "stringency_df.head()"
   ],
   "id": "4c3bb2ac4f79b05a",
   "outputs": [
    {
     "data": {
      "text/plain": [
       "      location        date  stringency_index  stringency_index_nonvac  \\\n",
       "0  Afghanistan  2020-01-05               0.0                      0.0   \n",
       "1  Afghanistan  2020-01-06               0.0                      0.0   \n",
       "2  Afghanistan  2020-01-07               0.0                      0.0   \n",
       "3  Afghanistan  2020-01-08               0.0                      0.0   \n",
       "4  Afghanistan  2020-01-09               0.0                      0.0   \n",
       "\n",
       "   stringency_index_vac  stringency_index_weighted_avg  \n",
       "0                   0.0                            0.0  \n",
       "1                   0.0                            0.0  \n",
       "2                   0.0                            0.0  \n",
       "3                   0.0                            0.0  \n",
       "4                   0.0                            0.0  "
      ],
      "text/html": [
       "<div>\n",
       "<style scoped>\n",
       "    .dataframe tbody tr th:only-of-type {\n",
       "        vertical-align: middle;\n",
       "    }\n",
       "\n",
       "    .dataframe tbody tr th {\n",
       "        vertical-align: top;\n",
       "    }\n",
       "\n",
       "    .dataframe thead th {\n",
       "        text-align: right;\n",
       "    }\n",
       "</style>\n",
       "<table border=\"1\" class=\"dataframe\">\n",
       "  <thead>\n",
       "    <tr style=\"text-align: right;\">\n",
       "      <th></th>\n",
       "      <th>location</th>\n",
       "      <th>date</th>\n",
       "      <th>stringency_index</th>\n",
       "      <th>stringency_index_nonvac</th>\n",
       "      <th>stringency_index_vac</th>\n",
       "      <th>stringency_index_weighted_avg</th>\n",
       "    </tr>\n",
       "  </thead>\n",
       "  <tbody>\n",
       "    <tr>\n",
       "      <th>0</th>\n",
       "      <td>Afghanistan</td>\n",
       "      <td>2020-01-05</td>\n",
       "      <td>0.0</td>\n",
       "      <td>0.0</td>\n",
       "      <td>0.0</td>\n",
       "      <td>0.0</td>\n",
       "    </tr>\n",
       "    <tr>\n",
       "      <th>1</th>\n",
       "      <td>Afghanistan</td>\n",
       "      <td>2020-01-06</td>\n",
       "      <td>0.0</td>\n",
       "      <td>0.0</td>\n",
       "      <td>0.0</td>\n",
       "      <td>0.0</td>\n",
       "    </tr>\n",
       "    <tr>\n",
       "      <th>2</th>\n",
       "      <td>Afghanistan</td>\n",
       "      <td>2020-01-07</td>\n",
       "      <td>0.0</td>\n",
       "      <td>0.0</td>\n",
       "      <td>0.0</td>\n",
       "      <td>0.0</td>\n",
       "    </tr>\n",
       "    <tr>\n",
       "      <th>3</th>\n",
       "      <td>Afghanistan</td>\n",
       "      <td>2020-01-08</td>\n",
       "      <td>0.0</td>\n",
       "      <td>0.0</td>\n",
       "      <td>0.0</td>\n",
       "      <td>0.0</td>\n",
       "    </tr>\n",
       "    <tr>\n",
       "      <th>4</th>\n",
       "      <td>Afghanistan</td>\n",
       "      <td>2020-01-09</td>\n",
       "      <td>0.0</td>\n",
       "      <td>0.0</td>\n",
       "      <td>0.0</td>\n",
       "      <td>0.0</td>\n",
       "    </tr>\n",
       "  </tbody>\n",
       "</table>\n",
       "</div>"
      ]
     },
     "execution_count": 4,
     "metadata": {},
     "output_type": "execute_result"
    }
   ],
   "execution_count": 4
  },
  {
   "metadata": {
    "ExecuteTime": {
     "end_time": "2024-06-23T08:17:07.873332Z",
     "start_time": "2024-06-23T08:17:07.843428Z"
    }
   },
   "cell_type": "code",
   "source": "main_df = pd.read_csv(\"covid19-data.csv\")",
   "id": "dfa5f73d39c1894f",
   "outputs": [],
   "execution_count": 2
  },
  {
   "metadata": {
    "ExecuteTime": {
     "end_time": "2024-06-21T19:41:57.834278Z",
     "start_time": "2024-06-21T19:41:57.800905Z"
    }
   },
   "cell_type": "code",
   "source": [
    "stringency_df.drop(stringency_df[['stringency_index_nonvac', 'stringency_index_vac', 'stringency_index_weighted_avg']], axis=1, inplace=True)\n",
    "\n",
    "stringency_df.head()"
   ],
   "id": "d4ec37f003410484",
   "outputs": [
    {
     "data": {
      "text/plain": [
       "      location        date  stringency_index\n",
       "0  Afghanistan  2020-01-05               0.0\n",
       "1  Afghanistan  2020-01-06               0.0\n",
       "2  Afghanistan  2020-01-07               0.0\n",
       "3  Afghanistan  2020-01-08               0.0\n",
       "4  Afghanistan  2020-01-09               0.0"
      ],
      "text/html": [
       "<div>\n",
       "<style scoped>\n",
       "    .dataframe tbody tr th:only-of-type {\n",
       "        vertical-align: middle;\n",
       "    }\n",
       "\n",
       "    .dataframe tbody tr th {\n",
       "        vertical-align: top;\n",
       "    }\n",
       "\n",
       "    .dataframe thead th {\n",
       "        text-align: right;\n",
       "    }\n",
       "</style>\n",
       "<table border=\"1\" class=\"dataframe\">\n",
       "  <thead>\n",
       "    <tr style=\"text-align: right;\">\n",
       "      <th></th>\n",
       "      <th>location</th>\n",
       "      <th>date</th>\n",
       "      <th>stringency_index</th>\n",
       "    </tr>\n",
       "  </thead>\n",
       "  <tbody>\n",
       "    <tr>\n",
       "      <th>0</th>\n",
       "      <td>Afghanistan</td>\n",
       "      <td>2020-01-05</td>\n",
       "      <td>0.0</td>\n",
       "    </tr>\n",
       "    <tr>\n",
       "      <th>1</th>\n",
       "      <td>Afghanistan</td>\n",
       "      <td>2020-01-06</td>\n",
       "      <td>0.0</td>\n",
       "    </tr>\n",
       "    <tr>\n",
       "      <th>2</th>\n",
       "      <td>Afghanistan</td>\n",
       "      <td>2020-01-07</td>\n",
       "      <td>0.0</td>\n",
       "    </tr>\n",
       "    <tr>\n",
       "      <th>3</th>\n",
       "      <td>Afghanistan</td>\n",
       "      <td>2020-01-08</td>\n",
       "      <td>0.0</td>\n",
       "    </tr>\n",
       "    <tr>\n",
       "      <th>4</th>\n",
       "      <td>Afghanistan</td>\n",
       "      <td>2020-01-09</td>\n",
       "      <td>0.0</td>\n",
       "    </tr>\n",
       "  </tbody>\n",
       "</table>\n",
       "</div>"
      ]
     },
     "execution_count": 6,
     "metadata": {},
     "output_type": "execute_result"
    }
   ],
   "execution_count": 6
  },
  {
   "metadata": {
    "ExecuteTime": {
     "end_time": "2024-06-21T19:42:00.842335Z",
     "start_time": "2024-06-21T19:42:00.799557Z"
    }
   },
   "cell_type": "code",
   "source": "stringency_df.info()",
   "id": "9f9b5496c7b71cee",
   "outputs": [
    {
     "name": "stdout",
     "output_type": "stream",
     "text": [
      "<class 'pandas.core.frame.DataFrame'>\n",
      "RangeIndex: 201592 entries, 0 to 201591\n",
      "Data columns (total 3 columns):\n",
      " #   Column            Non-Null Count   Dtype  \n",
      "---  ------            --------------   -----  \n",
      " 0   location          201592 non-null  object \n",
      " 1   date              201592 non-null  object \n",
      " 2   stringency_index  197292 non-null  float64\n",
      "dtypes: float64(1), object(2)\n",
      "memory usage: 4.6+ MB\n"
     ]
    }
   ],
   "execution_count": 7
  },
  {
   "metadata": {
    "ExecuteTime": {
     "end_time": "2024-06-21T19:42:07.019961Z",
     "start_time": "2024-06-21T19:42:06.999477Z"
    }
   },
   "cell_type": "code",
   "source": [
    "# Get the stringency index for the countries at the end of 2020, (early start of 2021)\n",
    "\n",
    "criteria = (stringency_df['date'] == \"2021-01-01\")"
   ],
   "id": "ff27b3730db70bf6",
   "outputs": [],
   "execution_count": 8
  },
  {
   "metadata": {
    "ExecuteTime": {
     "end_time": "2024-06-21T19:42:08.330376Z",
     "start_time": "2024-06-21T19:42:08.309497Z"
    }
   },
   "cell_type": "code",
   "source": "filtered_data = stringency_df.loc[criteria]",
   "id": "ca7faed1d31f5e86",
   "outputs": [],
   "execution_count": 9
  },
  {
   "metadata": {
    "ExecuteTime": {
     "end_time": "2024-06-21T19:42:11.732704Z",
     "start_time": "2024-06-21T19:42:11.709463Z"
    }
   },
   "cell_type": "code",
   "source": "filtered_data.head()",
   "id": "b0117c2a1404f536",
   "outputs": [
    {
     "data": {
      "text/plain": [
       "         location        date  stringency_index\n",
       "362   Afghanistan  2021-01-01             12.04\n",
       "1454      Albania  2021-01-01             56.48\n",
       "2546      Algeria  2021-01-01             72.22\n",
       "3638      Andorra  2021-01-01             52.78\n",
       "4730       Angola  2021-01-01             65.74"
      ],
      "text/html": [
       "<div>\n",
       "<style scoped>\n",
       "    .dataframe tbody tr th:only-of-type {\n",
       "        vertical-align: middle;\n",
       "    }\n",
       "\n",
       "    .dataframe tbody tr th {\n",
       "        vertical-align: top;\n",
       "    }\n",
       "\n",
       "    .dataframe thead th {\n",
       "        text-align: right;\n",
       "    }\n",
       "</style>\n",
       "<table border=\"1\" class=\"dataframe\">\n",
       "  <thead>\n",
       "    <tr style=\"text-align: right;\">\n",
       "      <th></th>\n",
       "      <th>location</th>\n",
       "      <th>date</th>\n",
       "      <th>stringency_index</th>\n",
       "    </tr>\n",
       "  </thead>\n",
       "  <tbody>\n",
       "    <tr>\n",
       "      <th>362</th>\n",
       "      <td>Afghanistan</td>\n",
       "      <td>2021-01-01</td>\n",
       "      <td>12.04</td>\n",
       "    </tr>\n",
       "    <tr>\n",
       "      <th>1454</th>\n",
       "      <td>Albania</td>\n",
       "      <td>2021-01-01</td>\n",
       "      <td>56.48</td>\n",
       "    </tr>\n",
       "    <tr>\n",
       "      <th>2546</th>\n",
       "      <td>Algeria</td>\n",
       "      <td>2021-01-01</td>\n",
       "      <td>72.22</td>\n",
       "    </tr>\n",
       "    <tr>\n",
       "      <th>3638</th>\n",
       "      <td>Andorra</td>\n",
       "      <td>2021-01-01</td>\n",
       "      <td>52.78</td>\n",
       "    </tr>\n",
       "    <tr>\n",
       "      <th>4730</th>\n",
       "      <td>Angola</td>\n",
       "      <td>2021-01-01</td>\n",
       "      <td>65.74</td>\n",
       "    </tr>\n",
       "  </tbody>\n",
       "</table>\n",
       "</div>"
      ]
     },
     "execution_count": 10,
     "metadata": {},
     "output_type": "execute_result"
    }
   ],
   "execution_count": 10
  },
  {
   "metadata": {
    "ExecuteTime": {
     "end_time": "2024-06-21T19:42:31.941711Z",
     "start_time": "2024-06-21T19:42:31.929580Z"
    }
   },
   "cell_type": "code",
   "source": "filtered_data['location'].sort_values()",
   "id": "e77538264c9f5703",
   "outputs": [
    {
     "data": {
      "text/plain": [
       "362       Afghanistan\n",
       "1454          Albania\n",
       "2546          Algeria\n",
       "3638          Andorra\n",
       "4730           Angola\n",
       "             ...     \n",
       "196494      Venezuela\n",
       "197586        Vietnam\n",
       "198678          Yemen\n",
       "199770         Zambia\n",
       "200862       Zimbabwe\n",
       "Name: location, Length: 184, dtype: object"
      ]
     },
     "execution_count": 12,
     "metadata": {},
     "output_type": "execute_result"
    }
   ],
   "execution_count": 12
  },
  {
   "metadata": {
    "ExecuteTime": {
     "end_time": "2024-06-21T19:42:33.461626Z",
     "start_time": "2024-06-21T19:42:33.409298Z"
    }
   },
   "cell_type": "code",
   "source": [
    "filtered_data.shape\n",
    "\n",
    "# This means we are missing 3 countries"
   ],
   "id": "c5b6c1f9cbf3ed22",
   "outputs": [
    {
     "data": {
      "text/plain": [
       "(184, 3)"
      ]
     },
     "execution_count": 13,
     "metadata": {},
     "output_type": "execute_result"
    }
   ],
   "execution_count": 13
  },
  {
   "metadata": {
    "ExecuteTime": {
     "end_time": "2024-06-21T19:42:40.256463Z",
     "start_time": "2024-06-21T19:42:40.226402Z"
    }
   },
   "cell_type": "code",
   "source": "countries = list(stringency_df['location'].unique())",
   "id": "290a835700583aa1",
   "outputs": [],
   "execution_count": 14
  },
  {
   "metadata": {
    "ExecuteTime": {
     "end_time": "2024-06-21T19:42:44.163188Z",
     "start_time": "2024-06-21T19:42:44.151290Z"
    }
   },
   "cell_type": "code",
   "source": "countries_in_main = list(main_df['Country'].unique())",
   "id": "ab4641b30909c8ba",
   "outputs": [],
   "execution_count": 15
  },
  {
   "metadata": {
    "ExecuteTime": {
     "end_time": "2024-06-21T19:42:44.864197Z",
     "start_time": "2024-06-21T19:42:44.849189Z"
    }
   },
   "cell_type": "code",
   "source": [
    "print(len(countries))\n",
    "print(len(countries_in_main))"
   ],
   "id": "1e0744821f25209d",
   "outputs": [
    {
     "name": "stdout",
     "output_type": "stream",
     "text": [
      "185\n",
      "187\n"
     ]
    }
   ],
   "execution_count": 16
  },
  {
   "metadata": {
    "ExecuteTime": {
     "end_time": "2024-06-21T19:43:03.717465Z",
     "start_time": "2024-06-21T19:43:03.695465Z"
    }
   },
   "cell_type": "code",
   "source": "missing_countries = set(countries_in_main) - set(countries)",
   "id": "adfab93461976592",
   "outputs": [],
   "execution_count": 17
  },
  {
   "metadata": {
    "ExecuteTime": {
     "end_time": "2024-06-21T19:43:04.582665Z",
     "start_time": "2024-06-21T19:43:04.569297Z"
    }
   },
   "cell_type": "code",
   "source": "missing_stringency = set(countries) - set(countries_in_main)",
   "id": "6aac62b70a86e11f",
   "outputs": [],
   "execution_count": 18
  },
  {
   "metadata": {
    "ExecuteTime": {
     "end_time": "2024-06-21T19:43:06.660515Z",
     "start_time": "2024-06-21T19:43:06.609412Z"
    }
   },
   "cell_type": "code",
   "source": "missing_stringency",
   "id": "71d5205a2fcdf5a2",
   "outputs": [
    {
     "data": {
      "text/plain": [
       "{'Aruba',\n",
       " 'Bermuda',\n",
       " 'Cape Verde',\n",
       " 'Congo',\n",
       " 'Democratic Republic of Congo',\n",
       " 'Faeroe Islands',\n",
       " 'Guam',\n",
       " 'Hong Kong',\n",
       " 'Kiribati',\n",
       " 'Macao',\n",
       " 'Myanmar',\n",
       " 'Palestine',\n",
       " 'Puerto Rico',\n",
       " 'Solomon Islands',\n",
       " 'Taiwan',\n",
       " 'Timor',\n",
       " 'Tonga',\n",
       " 'Turkmenistan',\n",
       " 'United States',\n",
       " 'United States Virgin Islands',\n",
       " 'Vanuatu'}"
      ]
     },
     "execution_count": 19,
     "metadata": {},
     "output_type": "execute_result"
    }
   ],
   "execution_count": 19
  },
  {
   "metadata": {
    "ExecuteTime": {
     "end_time": "2024-06-21T19:43:09.431745Z",
     "start_time": "2024-06-21T19:43:09.409281Z"
    }
   },
   "cell_type": "code",
   "source": "missing_countries",
   "id": "9501dcb83d7d4b78",
   "outputs": [
    {
     "data": {
      "text/plain": [
       "{'Antigua and Barbuda',\n",
       " 'Armenia',\n",
       " 'Burma',\n",
       " 'Cabo Verde',\n",
       " 'Comoros',\n",
       " 'Congo (Brazzaville)',\n",
       " 'Congo (Kinshasa)',\n",
       " 'Equatorial Guinea',\n",
       " 'Grenada',\n",
       " 'Guinea-Bissau',\n",
       " 'Holy See',\n",
       " 'Maldives',\n",
       " 'Montenegro',\n",
       " 'North Macedonia',\n",
       " 'Saint Kitts and Nevis',\n",
       " 'Saint Lucia',\n",
       " 'Saint Vincent and the Grenadines',\n",
       " 'Sao Tome and Principe',\n",
       " 'Taiwan*',\n",
       " 'Timor-Leste',\n",
       " 'US',\n",
       " 'West Bank and Gaza',\n",
       " 'Western Sahara'}"
      ]
     },
     "execution_count": 20,
     "metadata": {},
     "output_type": "execute_result"
    }
   ],
   "execution_count": 20
  },
  {
   "metadata": {
    "ExecuteTime": {
     "end_time": "2024-06-21T19:44:10.931538Z",
     "start_time": "2024-06-21T19:44:10.848926Z"
    }
   },
   "cell_type": "code",
   "source": [
    "countries_in_main = main_df['Country'].unique()\n",
    "countries = stringency_df['location'].unique()\n",
    "\n",
    "missing_in_stringency = set(countries_in_main) - set(countries)\n",
    "missing_in_main = set(countries) - set(countries_in_main)\n",
    "\n",
    "print(f\"Countries in main dataset but not in stringency index dataset after mapping: {missing_in_stringency}\")\n",
    "print(f\"Countries in stringency index dataset but not in main dataset after mapping: {missing_in_main}\")"
   ],
   "id": "1edecc47a7e104df",
   "outputs": [
    {
     "name": "stdout",
     "output_type": "stream",
     "text": [
      "Countries in main dataset but not in stringency index dataset after mapping: {'North Macedonia', 'Grenada', 'Guinea-Bissau', 'Equatorial Guinea', 'Congo (Brazzaville)', 'Congo (Kinshasa)', 'Saint Vincent and the Grenadines', 'West Bank and Gaza', 'Sao Tome and Principe', 'Taiwan*', 'Timor-Leste', 'Western Sahara', 'Antigua and Barbuda', 'Comoros', 'Cabo Verde', 'Saint Lucia', 'Saint Kitts and Nevis', 'Armenia', 'Burma', 'Montenegro', 'US', 'Maldives', 'Holy See'}\n",
      "Countries in stringency index dataset but not in main dataset after mapping: {'Aruba', 'Kiribati', 'Cape Verde', 'Hong Kong', 'Solomon Islands', 'Turkmenistan', 'Faeroe Islands', 'Myanmar', 'Macao', 'United States', 'Democratic Republic of Congo', 'Tonga', 'Vanuatu', 'United States Virgin Islands', 'Congo', 'Bermuda', 'Taiwan', 'Palestine', 'Timor', 'Puerto Rico', 'Guam'}\n"
     ]
    }
   ],
   "execution_count": 24
  },
  {
   "metadata": {},
   "cell_type": "code",
   "outputs": [],
   "execution_count": 21,
   "source": [
    "country_mapping = {\n",
    "    'United States': 'US',\n",
    "    'United States Virgin Islands': 'Virgin Islands, US',\n",
    "    'Democratic Republic of Congo': 'Congo (Kinshasa)',\n",
    "    'Congo': 'Congo (Brazzaville)',\n",
    "    'Myanmar': 'Burma',\n",
    "    'Cape Verde': 'Cabo Verde',\n",
    "    'Timor': 'Timor-Leste',\n",
    "    'Taiwan': 'Taiwan*',\n",
    "    'Hong Kong': 'Hong Kong SAR, China',\n",
    "    'Macao': 'Macao SAR, China',\n",
    "    'Faeroe Islands': 'Faroe Islands',\n",
    "    'Palestine': 'West Bank and Gaza'\n",
    "}"
   ],
   "id": "c48966cde3c9216"
  },
  {
   "metadata": {},
   "cell_type": "code",
   "outputs": [],
   "execution_count": 23,
   "source": "filtered_data.loc[:, 'location'] = filtered_data['location'].replace(country_mapping)",
   "id": "7e86feafbb2e21e1"
  },
  {
   "metadata": {
    "ExecuteTime": {
     "end_time": "2024-06-21T19:44:36.189093Z",
     "start_time": "2024-06-21T19:44:36.103685Z"
    }
   },
   "cell_type": "code",
   "source": [
    "# Filter out unmatched countries only from the stringency dataset\n",
    "stringency_df_filtered = filtered_data[~filtered_data['location'].isin(missing_in_main)]"
   ],
   "id": "d2cab5ec4c9e7fa4",
   "outputs": [],
   "execution_count": 25
  },
  {
   "metadata": {
    "ExecuteTime": {
     "end_time": "2024-06-21T19:44:39.215592Z",
     "start_time": "2024-06-21T19:44:38.958984Z"
    }
   },
   "cell_type": "code",
   "source": [
    "# Merge the datasets on the standardized country names, keeping all countries in the main dataset\n",
    "merged_df = main_df.merge(stringency_df_filtered, left_on='Country', right_on='location', how='left')"
   ],
   "id": "a9e6d72046940a0b",
   "outputs": [],
   "execution_count": 26
  },
  {
   "metadata": {
    "ExecuteTime": {
     "end_time": "2024-06-21T19:44:52.045157Z",
     "start_time": "2024-06-21T19:44:51.908765Z"
    }
   },
   "cell_type": "code",
   "source": "merged_df.head(10)",
   "id": "f6f47bd58bdfd5ad",
   "outputs": [
    {
     "data": {
      "text/plain": [
       "               Country  Confirmed  Deaths  Recovered  Active  New cases  \\\n",
       "0          Afghanistan      36263    1269      25198    9796        106   \n",
       "1              Albania       4880     144       2745    1991        117   \n",
       "2              Algeria      27973    1163      18837    7973        616   \n",
       "3              Andorra        907      52        803      52         10   \n",
       "4               Angola        950      41        242     667         18   \n",
       "5  Antigua and Barbuda         86       3         65      18          4   \n",
       "6            Argentina     167416    3059      72575   91782       4890   \n",
       "7              Armenia      37390     711      26665   10014         73   \n",
       "8            Australia      15303     167       9311    5825        368   \n",
       "9              Austria      20558     713      18246    1599         86   \n",
       "\n",
       "   New deaths  New recovered  Deaths / 100 Cases  Recovered / 100 Cases  \\\n",
       "0          10             18                3.50                  69.49   \n",
       "1           6             63                2.95                  56.25   \n",
       "2           8            749                4.16                  67.34   \n",
       "3           0              0                5.73                  88.53   \n",
       "4           1              0                4.32                  25.47   \n",
       "5           0              5                3.49                  75.58   \n",
       "6         120           2057                1.83                  43.35   \n",
       "7           6            187                1.90                  71.32   \n",
       "8           6            137                1.09                  60.84   \n",
       "9           1             37                3.47                  88.75   \n",
       "\n",
       "   Deaths / 100 Recovered  Confirmed last week  1 week change  \\\n",
       "0                    5.04                35526            737   \n",
       "1                    5.25                 4171            709   \n",
       "2                    6.17                23691           4282   \n",
       "3                    6.48                  884             23   \n",
       "4                   16.94                  749            201   \n",
       "5                    4.62                   76             10   \n",
       "6                    4.21               130774          36642   \n",
       "7                    2.67                34981           2409   \n",
       "8                    1.79                12428           2875   \n",
       "9                    3.91                19743            815   \n",
       "\n",
       "   1 week % increase             WHO Region     location        date  \\\n",
       "0               2.07  Eastern Mediterranean  Afghanistan  2021-01-01   \n",
       "1              17.00                 Europe      Albania  2021-01-01   \n",
       "2              18.07                 Africa      Algeria  2021-01-01   \n",
       "3               2.60                 Europe      Andorra  2021-01-01   \n",
       "4              26.84                 Africa       Angola  2021-01-01   \n",
       "5              13.16               Americas          NaN         NaN   \n",
       "6              28.02               Americas    Argentina  2021-01-01   \n",
       "7               6.89                 Europe          NaN         NaN   \n",
       "8              23.13        Western Pacific    Australia  2021-01-01   \n",
       "9               4.13                 Europe      Austria  2021-01-01   \n",
       "\n",
       "   stringency_index  \n",
       "0             12.04  \n",
       "1             56.48  \n",
       "2             72.22  \n",
       "3             52.78  \n",
       "4             65.74  \n",
       "5               NaN  \n",
       "6             79.17  \n",
       "7               NaN  \n",
       "8             70.83  \n",
       "9             82.41  "
      ],
      "text/html": [
       "<div>\n",
       "<style scoped>\n",
       "    .dataframe tbody tr th:only-of-type {\n",
       "        vertical-align: middle;\n",
       "    }\n",
       "\n",
       "    .dataframe tbody tr th {\n",
       "        vertical-align: top;\n",
       "    }\n",
       "\n",
       "    .dataframe thead th {\n",
       "        text-align: right;\n",
       "    }\n",
       "</style>\n",
       "<table border=\"1\" class=\"dataframe\">\n",
       "  <thead>\n",
       "    <tr style=\"text-align: right;\">\n",
       "      <th></th>\n",
       "      <th>Country</th>\n",
       "      <th>Confirmed</th>\n",
       "      <th>Deaths</th>\n",
       "      <th>Recovered</th>\n",
       "      <th>Active</th>\n",
       "      <th>New cases</th>\n",
       "      <th>New deaths</th>\n",
       "      <th>New recovered</th>\n",
       "      <th>Deaths / 100 Cases</th>\n",
       "      <th>Recovered / 100 Cases</th>\n",
       "      <th>Deaths / 100 Recovered</th>\n",
       "      <th>Confirmed last week</th>\n",
       "      <th>1 week change</th>\n",
       "      <th>1 week % increase</th>\n",
       "      <th>WHO Region</th>\n",
       "      <th>location</th>\n",
       "      <th>date</th>\n",
       "      <th>stringency_index</th>\n",
       "    </tr>\n",
       "  </thead>\n",
       "  <tbody>\n",
       "    <tr>\n",
       "      <th>0</th>\n",
       "      <td>Afghanistan</td>\n",
       "      <td>36263</td>\n",
       "      <td>1269</td>\n",
       "      <td>25198</td>\n",
       "      <td>9796</td>\n",
       "      <td>106</td>\n",
       "      <td>10</td>\n",
       "      <td>18</td>\n",
       "      <td>3.50</td>\n",
       "      <td>69.49</td>\n",
       "      <td>5.04</td>\n",
       "      <td>35526</td>\n",
       "      <td>737</td>\n",
       "      <td>2.07</td>\n",
       "      <td>Eastern Mediterranean</td>\n",
       "      <td>Afghanistan</td>\n",
       "      <td>2021-01-01</td>\n",
       "      <td>12.04</td>\n",
       "    </tr>\n",
       "    <tr>\n",
       "      <th>1</th>\n",
       "      <td>Albania</td>\n",
       "      <td>4880</td>\n",
       "      <td>144</td>\n",
       "      <td>2745</td>\n",
       "      <td>1991</td>\n",
       "      <td>117</td>\n",
       "      <td>6</td>\n",
       "      <td>63</td>\n",
       "      <td>2.95</td>\n",
       "      <td>56.25</td>\n",
       "      <td>5.25</td>\n",
       "      <td>4171</td>\n",
       "      <td>709</td>\n",
       "      <td>17.00</td>\n",
       "      <td>Europe</td>\n",
       "      <td>Albania</td>\n",
       "      <td>2021-01-01</td>\n",
       "      <td>56.48</td>\n",
       "    </tr>\n",
       "    <tr>\n",
       "      <th>2</th>\n",
       "      <td>Algeria</td>\n",
       "      <td>27973</td>\n",
       "      <td>1163</td>\n",
       "      <td>18837</td>\n",
       "      <td>7973</td>\n",
       "      <td>616</td>\n",
       "      <td>8</td>\n",
       "      <td>749</td>\n",
       "      <td>4.16</td>\n",
       "      <td>67.34</td>\n",
       "      <td>6.17</td>\n",
       "      <td>23691</td>\n",
       "      <td>4282</td>\n",
       "      <td>18.07</td>\n",
       "      <td>Africa</td>\n",
       "      <td>Algeria</td>\n",
       "      <td>2021-01-01</td>\n",
       "      <td>72.22</td>\n",
       "    </tr>\n",
       "    <tr>\n",
       "      <th>3</th>\n",
       "      <td>Andorra</td>\n",
       "      <td>907</td>\n",
       "      <td>52</td>\n",
       "      <td>803</td>\n",
       "      <td>52</td>\n",
       "      <td>10</td>\n",
       "      <td>0</td>\n",
       "      <td>0</td>\n",
       "      <td>5.73</td>\n",
       "      <td>88.53</td>\n",
       "      <td>6.48</td>\n",
       "      <td>884</td>\n",
       "      <td>23</td>\n",
       "      <td>2.60</td>\n",
       "      <td>Europe</td>\n",
       "      <td>Andorra</td>\n",
       "      <td>2021-01-01</td>\n",
       "      <td>52.78</td>\n",
       "    </tr>\n",
       "    <tr>\n",
       "      <th>4</th>\n",
       "      <td>Angola</td>\n",
       "      <td>950</td>\n",
       "      <td>41</td>\n",
       "      <td>242</td>\n",
       "      <td>667</td>\n",
       "      <td>18</td>\n",
       "      <td>1</td>\n",
       "      <td>0</td>\n",
       "      <td>4.32</td>\n",
       "      <td>25.47</td>\n",
       "      <td>16.94</td>\n",
       "      <td>749</td>\n",
       "      <td>201</td>\n",
       "      <td>26.84</td>\n",
       "      <td>Africa</td>\n",
       "      <td>Angola</td>\n",
       "      <td>2021-01-01</td>\n",
       "      <td>65.74</td>\n",
       "    </tr>\n",
       "    <tr>\n",
       "      <th>5</th>\n",
       "      <td>Antigua and Barbuda</td>\n",
       "      <td>86</td>\n",
       "      <td>3</td>\n",
       "      <td>65</td>\n",
       "      <td>18</td>\n",
       "      <td>4</td>\n",
       "      <td>0</td>\n",
       "      <td>5</td>\n",
       "      <td>3.49</td>\n",
       "      <td>75.58</td>\n",
       "      <td>4.62</td>\n",
       "      <td>76</td>\n",
       "      <td>10</td>\n",
       "      <td>13.16</td>\n",
       "      <td>Americas</td>\n",
       "      <td>NaN</td>\n",
       "      <td>NaN</td>\n",
       "      <td>NaN</td>\n",
       "    </tr>\n",
       "    <tr>\n",
       "      <th>6</th>\n",
       "      <td>Argentina</td>\n",
       "      <td>167416</td>\n",
       "      <td>3059</td>\n",
       "      <td>72575</td>\n",
       "      <td>91782</td>\n",
       "      <td>4890</td>\n",
       "      <td>120</td>\n",
       "      <td>2057</td>\n",
       "      <td>1.83</td>\n",
       "      <td>43.35</td>\n",
       "      <td>4.21</td>\n",
       "      <td>130774</td>\n",
       "      <td>36642</td>\n",
       "      <td>28.02</td>\n",
       "      <td>Americas</td>\n",
       "      <td>Argentina</td>\n",
       "      <td>2021-01-01</td>\n",
       "      <td>79.17</td>\n",
       "    </tr>\n",
       "    <tr>\n",
       "      <th>7</th>\n",
       "      <td>Armenia</td>\n",
       "      <td>37390</td>\n",
       "      <td>711</td>\n",
       "      <td>26665</td>\n",
       "      <td>10014</td>\n",
       "      <td>73</td>\n",
       "      <td>6</td>\n",
       "      <td>187</td>\n",
       "      <td>1.90</td>\n",
       "      <td>71.32</td>\n",
       "      <td>2.67</td>\n",
       "      <td>34981</td>\n",
       "      <td>2409</td>\n",
       "      <td>6.89</td>\n",
       "      <td>Europe</td>\n",
       "      <td>NaN</td>\n",
       "      <td>NaN</td>\n",
       "      <td>NaN</td>\n",
       "    </tr>\n",
       "    <tr>\n",
       "      <th>8</th>\n",
       "      <td>Australia</td>\n",
       "      <td>15303</td>\n",
       "      <td>167</td>\n",
       "      <td>9311</td>\n",
       "      <td>5825</td>\n",
       "      <td>368</td>\n",
       "      <td>6</td>\n",
       "      <td>137</td>\n",
       "      <td>1.09</td>\n",
       "      <td>60.84</td>\n",
       "      <td>1.79</td>\n",
       "      <td>12428</td>\n",
       "      <td>2875</td>\n",
       "      <td>23.13</td>\n",
       "      <td>Western Pacific</td>\n",
       "      <td>Australia</td>\n",
       "      <td>2021-01-01</td>\n",
       "      <td>70.83</td>\n",
       "    </tr>\n",
       "    <tr>\n",
       "      <th>9</th>\n",
       "      <td>Austria</td>\n",
       "      <td>20558</td>\n",
       "      <td>713</td>\n",
       "      <td>18246</td>\n",
       "      <td>1599</td>\n",
       "      <td>86</td>\n",
       "      <td>1</td>\n",
       "      <td>37</td>\n",
       "      <td>3.47</td>\n",
       "      <td>88.75</td>\n",
       "      <td>3.91</td>\n",
       "      <td>19743</td>\n",
       "      <td>815</td>\n",
       "      <td>4.13</td>\n",
       "      <td>Europe</td>\n",
       "      <td>Austria</td>\n",
       "      <td>2021-01-01</td>\n",
       "      <td>82.41</td>\n",
       "    </tr>\n",
       "  </tbody>\n",
       "</table>\n",
       "</div>"
      ]
     },
     "execution_count": 27,
     "metadata": {},
     "output_type": "execute_result"
    }
   ],
   "execution_count": 27
  },
  {
   "metadata": {
    "ExecuteTime": {
     "end_time": "2024-06-21T19:46:08.006356Z",
     "start_time": "2024-06-21T19:46:07.862264Z"
    }
   },
   "cell_type": "code",
   "source": "merged_df.isnull().sum()",
   "id": "a44c12447e9d2b4d",
   "outputs": [
    {
     "data": {
      "text/plain": [
       "Country                    0\n",
       "Confirmed                  0\n",
       "Deaths                     0\n",
       "Recovered                  0\n",
       "Active                     0\n",
       "New cases                  0\n",
       "New deaths                 0\n",
       "New recovered              0\n",
       "Deaths / 100 Cases         0\n",
       "Recovered / 100 Cases      0\n",
       "Deaths / 100 Recovered     0\n",
       "Confirmed last week        0\n",
       "1 week change              0\n",
       "1 week % increase          0\n",
       "WHO Region                 0\n",
       "location                  15\n",
       "date                      15\n",
       "stringency_index          16\n",
       "dtype: int64"
      ]
     },
     "execution_count": 30,
     "metadata": {},
     "output_type": "execute_result"
    }
   ],
   "execution_count": 30
  },
  {
   "metadata": {
    "ExecuteTime": {
     "end_time": "2024-06-21T19:54:38.381063Z",
     "start_time": "2024-06-21T19:54:38.269963Z"
    }
   },
   "cell_type": "code",
   "source": [
    "null_counts = merged_df[['Country', 'location', 'date', 'stringency_index']].isnull().sum(axis=1)\n",
    "\n",
    "merged_df['null_count'] = null_counts\n",
    "countries_with_many_nulls = merged_df[merged_df['null_count'] > 0]"
   ],
   "id": "735285e5caba5aa7",
   "outputs": [],
   "execution_count": 33
  },
  {
   "metadata": {
    "ExecuteTime": {
     "end_time": "2024-06-21T19:54:54.187150Z",
     "start_time": "2024-06-21T19:54:54.146288Z"
    }
   },
   "cell_type": "code",
   "source": "countries_with_many_nulls[['Country', 'location', 'date', 'stringency_index', 'null_count']]",
   "id": "8626cb458ede7944",
   "outputs": [
    {
     "data": {
      "text/plain": [
       "                              Country location        date  stringency_index  \\\n",
       "5                 Antigua and Barbuda      NaN         NaN               NaN   \n",
       "7                             Armenia      NaN         NaN               NaN   \n",
       "38                            Comoros      NaN         NaN               NaN   \n",
       "54                  Equatorial Guinea      NaN         NaN               NaN   \n",
       "55                            Eritrea  Eritrea  2021-01-01               NaN   \n",
       "69                            Grenada      NaN         NaN               NaN   \n",
       "72                      Guinea-Bissau      NaN         NaN               NaN   \n",
       "75                           Holy See      NaN         NaN               NaN   \n",
       "106                          Maldives      NaN         NaN               NaN   \n",
       "115                        Montenegro      NaN         NaN               NaN   \n",
       "125                   North Macedonia      NaN         NaN               NaN   \n",
       "140             Saint Kitts and Nevis      NaN         NaN               NaN   \n",
       "141                       Saint Lucia      NaN         NaN               NaN   \n",
       "142  Saint Vincent and the Grenadines      NaN         NaN               NaN   \n",
       "144             Sao Tome and Principe      NaN         NaN               NaN   \n",
       "183                    Western Sahara      NaN         NaN               NaN   \n",
       "\n",
       "     null_count  \n",
       "5             3  \n",
       "7             3  \n",
       "38            3  \n",
       "54            3  \n",
       "55            1  \n",
       "69            3  \n",
       "72            3  \n",
       "75            3  \n",
       "106           3  \n",
       "115           3  \n",
       "125           3  \n",
       "140           3  \n",
       "141           3  \n",
       "142           3  \n",
       "144           3  \n",
       "183           3  "
      ],
      "text/html": [
       "<div>\n",
       "<style scoped>\n",
       "    .dataframe tbody tr th:only-of-type {\n",
       "        vertical-align: middle;\n",
       "    }\n",
       "\n",
       "    .dataframe tbody tr th {\n",
       "        vertical-align: top;\n",
       "    }\n",
       "\n",
       "    .dataframe thead th {\n",
       "        text-align: right;\n",
       "    }\n",
       "</style>\n",
       "<table border=\"1\" class=\"dataframe\">\n",
       "  <thead>\n",
       "    <tr style=\"text-align: right;\">\n",
       "      <th></th>\n",
       "      <th>Country</th>\n",
       "      <th>location</th>\n",
       "      <th>date</th>\n",
       "      <th>stringency_index</th>\n",
       "      <th>null_count</th>\n",
       "    </tr>\n",
       "  </thead>\n",
       "  <tbody>\n",
       "    <tr>\n",
       "      <th>5</th>\n",
       "      <td>Antigua and Barbuda</td>\n",
       "      <td>NaN</td>\n",
       "      <td>NaN</td>\n",
       "      <td>NaN</td>\n",
       "      <td>3</td>\n",
       "    </tr>\n",
       "    <tr>\n",
       "      <th>7</th>\n",
       "      <td>Armenia</td>\n",
       "      <td>NaN</td>\n",
       "      <td>NaN</td>\n",
       "      <td>NaN</td>\n",
       "      <td>3</td>\n",
       "    </tr>\n",
       "    <tr>\n",
       "      <th>38</th>\n",
       "      <td>Comoros</td>\n",
       "      <td>NaN</td>\n",
       "      <td>NaN</td>\n",
       "      <td>NaN</td>\n",
       "      <td>3</td>\n",
       "    </tr>\n",
       "    <tr>\n",
       "      <th>54</th>\n",
       "      <td>Equatorial Guinea</td>\n",
       "      <td>NaN</td>\n",
       "      <td>NaN</td>\n",
       "      <td>NaN</td>\n",
       "      <td>3</td>\n",
       "    </tr>\n",
       "    <tr>\n",
       "      <th>55</th>\n",
       "      <td>Eritrea</td>\n",
       "      <td>Eritrea</td>\n",
       "      <td>2021-01-01</td>\n",
       "      <td>NaN</td>\n",
       "      <td>1</td>\n",
       "    </tr>\n",
       "    <tr>\n",
       "      <th>69</th>\n",
       "      <td>Grenada</td>\n",
       "      <td>NaN</td>\n",
       "      <td>NaN</td>\n",
       "      <td>NaN</td>\n",
       "      <td>3</td>\n",
       "    </tr>\n",
       "    <tr>\n",
       "      <th>72</th>\n",
       "      <td>Guinea-Bissau</td>\n",
       "      <td>NaN</td>\n",
       "      <td>NaN</td>\n",
       "      <td>NaN</td>\n",
       "      <td>3</td>\n",
       "    </tr>\n",
       "    <tr>\n",
       "      <th>75</th>\n",
       "      <td>Holy See</td>\n",
       "      <td>NaN</td>\n",
       "      <td>NaN</td>\n",
       "      <td>NaN</td>\n",
       "      <td>3</td>\n",
       "    </tr>\n",
       "    <tr>\n",
       "      <th>106</th>\n",
       "      <td>Maldives</td>\n",
       "      <td>NaN</td>\n",
       "      <td>NaN</td>\n",
       "      <td>NaN</td>\n",
       "      <td>3</td>\n",
       "    </tr>\n",
       "    <tr>\n",
       "      <th>115</th>\n",
       "      <td>Montenegro</td>\n",
       "      <td>NaN</td>\n",
       "      <td>NaN</td>\n",
       "      <td>NaN</td>\n",
       "      <td>3</td>\n",
       "    </tr>\n",
       "    <tr>\n",
       "      <th>125</th>\n",
       "      <td>North Macedonia</td>\n",
       "      <td>NaN</td>\n",
       "      <td>NaN</td>\n",
       "      <td>NaN</td>\n",
       "      <td>3</td>\n",
       "    </tr>\n",
       "    <tr>\n",
       "      <th>140</th>\n",
       "      <td>Saint Kitts and Nevis</td>\n",
       "      <td>NaN</td>\n",
       "      <td>NaN</td>\n",
       "      <td>NaN</td>\n",
       "      <td>3</td>\n",
       "    </tr>\n",
       "    <tr>\n",
       "      <th>141</th>\n",
       "      <td>Saint Lucia</td>\n",
       "      <td>NaN</td>\n",
       "      <td>NaN</td>\n",
       "      <td>NaN</td>\n",
       "      <td>3</td>\n",
       "    </tr>\n",
       "    <tr>\n",
       "      <th>142</th>\n",
       "      <td>Saint Vincent and the Grenadines</td>\n",
       "      <td>NaN</td>\n",
       "      <td>NaN</td>\n",
       "      <td>NaN</td>\n",
       "      <td>3</td>\n",
       "    </tr>\n",
       "    <tr>\n",
       "      <th>144</th>\n",
       "      <td>Sao Tome and Principe</td>\n",
       "      <td>NaN</td>\n",
       "      <td>NaN</td>\n",
       "      <td>NaN</td>\n",
       "      <td>3</td>\n",
       "    </tr>\n",
       "    <tr>\n",
       "      <th>183</th>\n",
       "      <td>Western Sahara</td>\n",
       "      <td>NaN</td>\n",
       "      <td>NaN</td>\n",
       "      <td>NaN</td>\n",
       "      <td>3</td>\n",
       "    </tr>\n",
       "  </tbody>\n",
       "</table>\n",
       "</div>"
      ]
     },
     "execution_count": 34,
     "metadata": {},
     "output_type": "execute_result"
    }
   ],
   "execution_count": 34
  },
  {
   "metadata": {
    "ExecuteTime": {
     "end_time": "2024-06-23T07:52:51.436792Z",
     "start_time": "2024-06-23T07:52:50.515944Z"
    }
   },
   "cell_type": "code",
   "source": "merged_df['stringency_index']",
   "id": "5b182d5b84039dd6",
   "outputs": [
    {
     "data": {
      "text/plain": [
       "0      12.04\n",
       "1      56.48\n",
       "2      72.22\n",
       "3      52.78\n",
       "4      65.74\n",
       "       ...  \n",
       "182    68.06\n",
       "183      NaN\n",
       "184    27.78\n",
       "185    50.93\n",
       "186    69.44\n",
       "Name: stringency_index, Length: 187, dtype: float64"
      ]
     },
     "execution_count": 35,
     "metadata": {},
     "output_type": "execute_result"
    }
   ],
   "execution_count": 35
  },
  {
   "metadata": {
    "ExecuteTime": {
     "end_time": "2024-06-23T08:00:23.577818Z",
     "start_time": "2024-06-23T08:00:23.114122Z"
    }
   },
   "cell_type": "code",
   "source": [
    "# The stringency index for countries is highly volatile and as such a backward or forward fill will not be a good choice. We opted for linear interpolation as it will estimate the missing values based on the trend of surrounding data\n",
    "\n",
    "merged_df['stringency_index'] = merged_df['stringency_index'].interpolate(method='linear')"
   ],
   "id": "7e16ee1b837336e",
   "outputs": [],
   "execution_count": 36
  },
  {
   "metadata": {
    "ExecuteTime": {
     "end_time": "2024-06-23T08:00:51.843310Z",
     "start_time": "2024-06-23T08:00:51.547684Z"
    }
   },
   "cell_type": "code",
   "source": "merged_df['stringency_index'].isnull().sum()",
   "id": "3e0b4acb0d162cc0",
   "outputs": [
    {
     "data": {
      "text/plain": [
       "0"
      ]
     },
     "execution_count": 37,
     "metadata": {},
     "output_type": "execute_result"
    }
   ],
   "execution_count": 37
  },
  {
   "metadata": {
    "ExecuteTime": {
     "end_time": "2024-06-23T08:05:42.627999Z",
     "start_time": "2024-06-23T08:05:42.576735Z"
    }
   },
   "cell_type": "code",
   "source": "merged_df",
   "id": "31bcda586ed02654",
   "outputs": [
    {
     "data": {
      "text/plain": [
       "                Country  Confirmed  Deaths  Recovered  Active  New cases  \\\n",
       "0           Afghanistan      36263    1269      25198    9796        106   \n",
       "1               Albania       4880     144       2745    1991        117   \n",
       "2               Algeria      27973    1163      18837    7973        616   \n",
       "3               Andorra        907      52        803      52         10   \n",
       "4                Angola        950      41        242     667         18   \n",
       "..                  ...        ...     ...        ...     ...        ...   \n",
       "182  West Bank and Gaza      10621      78       3752    6791        152   \n",
       "183      Western Sahara         10       1          8       1          0   \n",
       "184               Yemen       1691     483        833     375         10   \n",
       "185              Zambia       4552     140       2815    1597         71   \n",
       "186            Zimbabwe       2704      36        542    2126        192   \n",
       "\n",
       "     New deaths  New recovered  Deaths / 100 Cases  Recovered / 100 Cases  \\\n",
       "0            10             18                3.50                  69.49   \n",
       "1             6             63                2.95                  56.25   \n",
       "2             8            749                4.16                  67.34   \n",
       "3             0              0                5.73                  88.53   \n",
       "4             1              0                4.32                  25.47   \n",
       "..          ...            ...                 ...                    ...   \n",
       "182           2              0                0.73                  35.33   \n",
       "183           0              0               10.00                  80.00   \n",
       "184           4             36               28.56                  49.26   \n",
       "185           1            465                3.08                  61.84   \n",
       "186           2             24                1.33                  20.04   \n",
       "\n",
       "     Deaths / 100 Recovered  Confirmed last week  1 week change  \\\n",
       "0                      5.04                35526            737   \n",
       "1                      5.25                 4171            709   \n",
       "2                      6.17                23691           4282   \n",
       "3                      6.48                  884             23   \n",
       "4                     16.94                  749            201   \n",
       "..                      ...                  ...            ...   \n",
       "182                    2.08                 8916           1705   \n",
       "183                   12.50                   10              0   \n",
       "184                   57.98                 1619             72   \n",
       "185                    4.97                 3326           1226   \n",
       "186                    6.64                 1713            991   \n",
       "\n",
       "     1 week % increase             WHO Region            location        date  \\\n",
       "0                 2.07  Eastern Mediterranean         Afghanistan  2021-01-01   \n",
       "1                17.00                 Europe             Albania  2021-01-01   \n",
       "2                18.07                 Africa             Algeria  2021-01-01   \n",
       "3                 2.60                 Europe             Andorra  2021-01-01   \n",
       "4                26.84                 Africa              Angola  2021-01-01   \n",
       "..                 ...                    ...                 ...         ...   \n",
       "182              19.12  Eastern Mediterranean  West Bank and Gaza  2021-01-01   \n",
       "183               0.00                 Africa                 NaN         NaN   \n",
       "184               4.45  Eastern Mediterranean               Yemen  2021-01-01   \n",
       "185              36.86                 Africa              Zambia  2021-01-01   \n",
       "186              57.85                 Africa            Zimbabwe  2021-01-01   \n",
       "\n",
       "     stringency_index  null_count  \n",
       "0               12.04           0  \n",
       "1               56.48           0  \n",
       "2               72.22           0  \n",
       "3               52.78           0  \n",
       "4               65.74           0  \n",
       "..                ...         ...  \n",
       "182             68.06           0  \n",
       "183             47.92           3  \n",
       "184             27.78           0  \n",
       "185             50.93           0  \n",
       "186             69.44           0  \n",
       "\n",
       "[187 rows x 19 columns]"
      ],
      "text/html": [
       "<div>\n",
       "<style scoped>\n",
       "    .dataframe tbody tr th:only-of-type {\n",
       "        vertical-align: middle;\n",
       "    }\n",
       "\n",
       "    .dataframe tbody tr th {\n",
       "        vertical-align: top;\n",
       "    }\n",
       "\n",
       "    .dataframe thead th {\n",
       "        text-align: right;\n",
       "    }\n",
       "</style>\n",
       "<table border=\"1\" class=\"dataframe\">\n",
       "  <thead>\n",
       "    <tr style=\"text-align: right;\">\n",
       "      <th></th>\n",
       "      <th>Country</th>\n",
       "      <th>Confirmed</th>\n",
       "      <th>Deaths</th>\n",
       "      <th>Recovered</th>\n",
       "      <th>Active</th>\n",
       "      <th>New cases</th>\n",
       "      <th>New deaths</th>\n",
       "      <th>New recovered</th>\n",
       "      <th>Deaths / 100 Cases</th>\n",
       "      <th>Recovered / 100 Cases</th>\n",
       "      <th>Deaths / 100 Recovered</th>\n",
       "      <th>Confirmed last week</th>\n",
       "      <th>1 week change</th>\n",
       "      <th>1 week % increase</th>\n",
       "      <th>WHO Region</th>\n",
       "      <th>location</th>\n",
       "      <th>date</th>\n",
       "      <th>stringency_index</th>\n",
       "      <th>null_count</th>\n",
       "    </tr>\n",
       "  </thead>\n",
       "  <tbody>\n",
       "    <tr>\n",
       "      <th>0</th>\n",
       "      <td>Afghanistan</td>\n",
       "      <td>36263</td>\n",
       "      <td>1269</td>\n",
       "      <td>25198</td>\n",
       "      <td>9796</td>\n",
       "      <td>106</td>\n",
       "      <td>10</td>\n",
       "      <td>18</td>\n",
       "      <td>3.50</td>\n",
       "      <td>69.49</td>\n",
       "      <td>5.04</td>\n",
       "      <td>35526</td>\n",
       "      <td>737</td>\n",
       "      <td>2.07</td>\n",
       "      <td>Eastern Mediterranean</td>\n",
       "      <td>Afghanistan</td>\n",
       "      <td>2021-01-01</td>\n",
       "      <td>12.04</td>\n",
       "      <td>0</td>\n",
       "    </tr>\n",
       "    <tr>\n",
       "      <th>1</th>\n",
       "      <td>Albania</td>\n",
       "      <td>4880</td>\n",
       "      <td>144</td>\n",
       "      <td>2745</td>\n",
       "      <td>1991</td>\n",
       "      <td>117</td>\n",
       "      <td>6</td>\n",
       "      <td>63</td>\n",
       "      <td>2.95</td>\n",
       "      <td>56.25</td>\n",
       "      <td>5.25</td>\n",
       "      <td>4171</td>\n",
       "      <td>709</td>\n",
       "      <td>17.00</td>\n",
       "      <td>Europe</td>\n",
       "      <td>Albania</td>\n",
       "      <td>2021-01-01</td>\n",
       "      <td>56.48</td>\n",
       "      <td>0</td>\n",
       "    </tr>\n",
       "    <tr>\n",
       "      <th>2</th>\n",
       "      <td>Algeria</td>\n",
       "      <td>27973</td>\n",
       "      <td>1163</td>\n",
       "      <td>18837</td>\n",
       "      <td>7973</td>\n",
       "      <td>616</td>\n",
       "      <td>8</td>\n",
       "      <td>749</td>\n",
       "      <td>4.16</td>\n",
       "      <td>67.34</td>\n",
       "      <td>6.17</td>\n",
       "      <td>23691</td>\n",
       "      <td>4282</td>\n",
       "      <td>18.07</td>\n",
       "      <td>Africa</td>\n",
       "      <td>Algeria</td>\n",
       "      <td>2021-01-01</td>\n",
       "      <td>72.22</td>\n",
       "      <td>0</td>\n",
       "    </tr>\n",
       "    <tr>\n",
       "      <th>3</th>\n",
       "      <td>Andorra</td>\n",
       "      <td>907</td>\n",
       "      <td>52</td>\n",
       "      <td>803</td>\n",
       "      <td>52</td>\n",
       "      <td>10</td>\n",
       "      <td>0</td>\n",
       "      <td>0</td>\n",
       "      <td>5.73</td>\n",
       "      <td>88.53</td>\n",
       "      <td>6.48</td>\n",
       "      <td>884</td>\n",
       "      <td>23</td>\n",
       "      <td>2.60</td>\n",
       "      <td>Europe</td>\n",
       "      <td>Andorra</td>\n",
       "      <td>2021-01-01</td>\n",
       "      <td>52.78</td>\n",
       "      <td>0</td>\n",
       "    </tr>\n",
       "    <tr>\n",
       "      <th>4</th>\n",
       "      <td>Angola</td>\n",
       "      <td>950</td>\n",
       "      <td>41</td>\n",
       "      <td>242</td>\n",
       "      <td>667</td>\n",
       "      <td>18</td>\n",
       "      <td>1</td>\n",
       "      <td>0</td>\n",
       "      <td>4.32</td>\n",
       "      <td>25.47</td>\n",
       "      <td>16.94</td>\n",
       "      <td>749</td>\n",
       "      <td>201</td>\n",
       "      <td>26.84</td>\n",
       "      <td>Africa</td>\n",
       "      <td>Angola</td>\n",
       "      <td>2021-01-01</td>\n",
       "      <td>65.74</td>\n",
       "      <td>0</td>\n",
       "    </tr>\n",
       "    <tr>\n",
       "      <th>...</th>\n",
       "      <td>...</td>\n",
       "      <td>...</td>\n",
       "      <td>...</td>\n",
       "      <td>...</td>\n",
       "      <td>...</td>\n",
       "      <td>...</td>\n",
       "      <td>...</td>\n",
       "      <td>...</td>\n",
       "      <td>...</td>\n",
       "      <td>...</td>\n",
       "      <td>...</td>\n",
       "      <td>...</td>\n",
       "      <td>...</td>\n",
       "      <td>...</td>\n",
       "      <td>...</td>\n",
       "      <td>...</td>\n",
       "      <td>...</td>\n",
       "      <td>...</td>\n",
       "      <td>...</td>\n",
       "    </tr>\n",
       "    <tr>\n",
       "      <th>182</th>\n",
       "      <td>West Bank and Gaza</td>\n",
       "      <td>10621</td>\n",
       "      <td>78</td>\n",
       "      <td>3752</td>\n",
       "      <td>6791</td>\n",
       "      <td>152</td>\n",
       "      <td>2</td>\n",
       "      <td>0</td>\n",
       "      <td>0.73</td>\n",
       "      <td>35.33</td>\n",
       "      <td>2.08</td>\n",
       "      <td>8916</td>\n",
       "      <td>1705</td>\n",
       "      <td>19.12</td>\n",
       "      <td>Eastern Mediterranean</td>\n",
       "      <td>West Bank and Gaza</td>\n",
       "      <td>2021-01-01</td>\n",
       "      <td>68.06</td>\n",
       "      <td>0</td>\n",
       "    </tr>\n",
       "    <tr>\n",
       "      <th>183</th>\n",
       "      <td>Western Sahara</td>\n",
       "      <td>10</td>\n",
       "      <td>1</td>\n",
       "      <td>8</td>\n",
       "      <td>1</td>\n",
       "      <td>0</td>\n",
       "      <td>0</td>\n",
       "      <td>0</td>\n",
       "      <td>10.00</td>\n",
       "      <td>80.00</td>\n",
       "      <td>12.50</td>\n",
       "      <td>10</td>\n",
       "      <td>0</td>\n",
       "      <td>0.00</td>\n",
       "      <td>Africa</td>\n",
       "      <td>NaN</td>\n",
       "      <td>NaN</td>\n",
       "      <td>47.92</td>\n",
       "      <td>3</td>\n",
       "    </tr>\n",
       "    <tr>\n",
       "      <th>184</th>\n",
       "      <td>Yemen</td>\n",
       "      <td>1691</td>\n",
       "      <td>483</td>\n",
       "      <td>833</td>\n",
       "      <td>375</td>\n",
       "      <td>10</td>\n",
       "      <td>4</td>\n",
       "      <td>36</td>\n",
       "      <td>28.56</td>\n",
       "      <td>49.26</td>\n",
       "      <td>57.98</td>\n",
       "      <td>1619</td>\n",
       "      <td>72</td>\n",
       "      <td>4.45</td>\n",
       "      <td>Eastern Mediterranean</td>\n",
       "      <td>Yemen</td>\n",
       "      <td>2021-01-01</td>\n",
       "      <td>27.78</td>\n",
       "      <td>0</td>\n",
       "    </tr>\n",
       "    <tr>\n",
       "      <th>185</th>\n",
       "      <td>Zambia</td>\n",
       "      <td>4552</td>\n",
       "      <td>140</td>\n",
       "      <td>2815</td>\n",
       "      <td>1597</td>\n",
       "      <td>71</td>\n",
       "      <td>1</td>\n",
       "      <td>465</td>\n",
       "      <td>3.08</td>\n",
       "      <td>61.84</td>\n",
       "      <td>4.97</td>\n",
       "      <td>3326</td>\n",
       "      <td>1226</td>\n",
       "      <td>36.86</td>\n",
       "      <td>Africa</td>\n",
       "      <td>Zambia</td>\n",
       "      <td>2021-01-01</td>\n",
       "      <td>50.93</td>\n",
       "      <td>0</td>\n",
       "    </tr>\n",
       "    <tr>\n",
       "      <th>186</th>\n",
       "      <td>Zimbabwe</td>\n",
       "      <td>2704</td>\n",
       "      <td>36</td>\n",
       "      <td>542</td>\n",
       "      <td>2126</td>\n",
       "      <td>192</td>\n",
       "      <td>2</td>\n",
       "      <td>24</td>\n",
       "      <td>1.33</td>\n",
       "      <td>20.04</td>\n",
       "      <td>6.64</td>\n",
       "      <td>1713</td>\n",
       "      <td>991</td>\n",
       "      <td>57.85</td>\n",
       "      <td>Africa</td>\n",
       "      <td>Zimbabwe</td>\n",
       "      <td>2021-01-01</td>\n",
       "      <td>69.44</td>\n",
       "      <td>0</td>\n",
       "    </tr>\n",
       "  </tbody>\n",
       "</table>\n",
       "<p>187 rows × 19 columns</p>\n",
       "</div>"
      ]
     },
     "execution_count": 41,
     "metadata": {},
     "output_type": "execute_result"
    }
   ],
   "execution_count": 41
  },
  {
   "metadata": {
    "ExecuteTime": {
     "end_time": "2024-06-23T08:05:57.678407Z",
     "start_time": "2024-06-23T08:05:57.653035Z"
    }
   },
   "cell_type": "code",
   "source": "merged_df.loc(merged_df.drop(['location', 'date', 'null_count'], axis=1, inplace=True))",
   "id": "a4f8f23beb1cd1f3",
   "outputs": [
    {
     "data": {
      "text/plain": [
       "<pandas.core.indexing._LocIndexer at 0x1930944ec60>"
      ]
     },
     "execution_count": 42,
     "metadata": {},
     "output_type": "execute_result"
    }
   ],
   "execution_count": 42
  },
  {
   "metadata": {
    "ExecuteTime": {
     "end_time": "2024-06-23T08:06:14.765490Z",
     "start_time": "2024-06-23T08:06:14.729754Z"
    }
   },
   "cell_type": "code",
   "source": "merged_df.to_csv(\"covid19-data.csv\", index=False)",
   "id": "928d47ec8768658",
   "outputs": [],
   "execution_count": 43
  },
  {
   "metadata": {
    "ExecuteTime": {
     "end_time": "2024-06-23T08:18:16.534569Z",
     "start_time": "2024-06-23T08:18:15.801592Z"
    }
   },
   "cell_type": "code",
   "source": "# ------------ Note to Self, We reruning the notebook to perform more experiments",
   "id": "e03734be74e5d9fa",
   "outputs": [],
   "execution_count": 3
  },
  {
   "metadata": {
    "ExecuteTime": {
     "end_time": "2024-06-23T08:19:34.280383Z",
     "start_time": "2024-06-23T08:19:33.965664Z"
    }
   },
   "cell_type": "code",
   "source": "covid_df = pd.read_csv(\"covid19_data.csv\")",
   "id": "bf4d0e55d2c5e34a",
   "outputs": [],
   "execution_count": 4
  },
  {
   "metadata": {},
   "cell_type": "markdown",
   "source": "Analyze Distribution of Strigency Index",
   "id": "99e98e3937eecadd"
  },
  {
   "metadata": {
    "ExecuteTime": {
     "end_time": "2024-06-23T08:21:19.795842Z",
     "start_time": "2024-06-23T08:21:13.258657Z"
    }
   },
   "cell_type": "code",
   "source": [
    "plt.hist(covid_df['stringency_index'], bins=20, edgecolor='black')\n",
    "plt.xlabel('Stringency Index')\n",
    "plt.ylabel('Frequency')\n",
    "plt.title(\"Stringency Index Distribution\")\n",
    "plt.show()"
   ],
   "id": "7fcd7406b4d5a1ac",
   "outputs": [
    {
     "data": {
      "text/plain": [
       "<Figure size 640x480 with 1 Axes>"
      ],
      "image/png": "[encoded data removed]"
     },
     "metadata": {},
     "output_type": "display_data"
    }
   ],
   "execution_count": 5
  },
  {
   "metadata": {},
   "cell_type": "markdown",
   "source": "Define Thresholds Using Quantiles",
   "id": "a9f53008c381065f"
  },
  {
   "metadata": {
    "ExecuteTime": {
     "end_time": "2024-06-23T08:28:03.960994Z",
     "start_time": "2024-06-23T08:28:03.692777Z"
    }
   },
   "cell_type": "code",
   "source": [
    "quantiles = covid_df['stringency_index'].quantile([0.33, 0.66])\n",
    "low_threshold = quantiles[0.33]\n",
    "high_threshold = quantiles[0.66]"
   ],
   "id": "e66c2b0ed387e557",
   "outputs": [],
   "execution_count": 7
  },
  {
   "metadata": {
    "ExecuteTime": {
     "end_time": "2024-06-23T08:28:29.670526Z",
     "start_time": "2024-06-23T08:28:29.371846Z"
    }
   },
   "cell_type": "code",
   "source": [
    "print(f\"Low threshold: {low_threshold}\")\n",
    "print(f\"High threshold: {high_threshold}\")"
   ],
   "id": "b610e5f1f4dd0096",
   "outputs": [
    {
     "name": "stdout",
     "output_type": "stream",
     "text": [
      "Low threshold: 51.85\n",
      "High threshold: 67.59\n"
     ]
    }
   ],
   "execution_count": 8
  },
  {
   "metadata": {},
   "cell_type": "markdown",
   "source": "Apply Categorization",
   "id": "bf06335188f1afa0"
  },
  {
   "metadata": {
    "ExecuteTime": {
     "end_time": "2024-06-23T14:50:09.261043Z",
     "start_time": "2024-06-23T14:50:09.126032Z"
    }
   },
   "cell_type": "code",
   "source": [
    "def categorize_stringency(index):\n",
    "    if index <= low_threshold:\n",
    "        return 'Low'\n",
    "    elif index <= high_threshold:\n",
    "        return 'Medium'\n",
    "    else:\n",
    "        return 'High'"
   ],
   "id": "e68e5165f52539c5",
   "outputs": [],
   "execution_count": 9
  },
  {
   "metadata": {
    "ExecuteTime": {
     "end_time": "2024-06-23T14:50:46.276690Z",
     "start_time": "2024-06-23T14:50:45.930635Z"
    }
   },
   "cell_type": "code",
   "source": "covid_df['stringency_category'] = covid_df['stringency_index'].apply(categorize_stringency)",
   "id": "4579eb94c7acefe4",
   "outputs": [],
   "execution_count": 10
  },
  {
   "metadata": {
    "ExecuteTime": {
     "end_time": "2024-06-23T14:51:26.331051Z",
     "start_time": "2024-06-23T14:51:25.785629Z"
    }
   },
   "cell_type": "code",
   "source": "covid_df.to_csv(\"covid19_data.csv\", index=False)",
   "id": "7e5a3f3654de4f6",
   "outputs": [],
   "execution_count": 11
  },
  {
   "metadata": {},
   "cell_type": "code",
   "outputs": [],
   "execution_count": null,
   "source": "",
   "id": "dc6763b772ddcd9e"
  }
 ],
 "metadata": {
  "kernelspec": {
   "display_name": "Python 3",
   "language": "python",
   "name": "python3"
  },
  "language_info": {
   "codemirror_mode": {
    "name": "ipython",
    "version": 2
   },
   "file_extension": ".py",
   "mimetype": "text/x-python",
   "name": "python",
   "nbconvert_exporter": "python",
   "pygments_lexer": "ipython2",
   "version": "2.7.6"
  }
 },
 "nbformat": 4,
 "nbformat_minor": 5
}
