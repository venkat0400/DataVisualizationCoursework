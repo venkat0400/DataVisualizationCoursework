{
 "cells": [
  {
   "cell_type": "code",
   "id": "initial_id",
   "metadata": {
    "collapsed": true,
    "ExecuteTime": {
     "end_time": "2024-07-09T15:30:37.221816Z",
     "start_time": "2024-07-09T15:30:33.134819Z"
    }
   },
   "source": [
    "import requests\n",
    "import pandas as pd\n",
    "import matplotlib.pyplot as plt"
   ],
   "outputs": [],
   "execution_count": 1
  },
  {
   "metadata": {
    "ExecuteTime": {
     "end_time": "2024-07-09T15:30:37.228998Z",
     "start_time": "2024-07-09T15:30:37.221816Z"
    }
   },
   "cell_type": "code",
   "source": "url = \"https://covid.ourworldindata.org/data/internal/megafile--stringency.json\"",
   "id": "732cf3236fcc7aa2",
   "outputs": [],
   "execution_count": 2
  },
  {
   "metadata": {
    "ExecuteTime": {
     "end_time": "2024-07-09T15:30:38.199717Z",
     "start_time": "2024-07-09T15:30:37.228998Z"
    }
   },
   "cell_type": "code",
   "source": [
    "response = requests.get(url)\n",
    "data = response.json()"
   ],
   "id": "229f0c8232b55b97",
   "outputs": [],
   "execution_count": 3
  },
  {
   "metadata": {
    "ExecuteTime": {
     "end_time": "2024-07-09T15:30:38.399317Z",
     "start_time": "2024-07-09T15:30:38.200723Z"
    }
   },
   "cell_type": "code",
   "source": [
    "stringency_df = pd.DataFrame(data)\n",
    "\n",
    "stringency_df.head()"
   ],
   "id": "4c3bb2ac4f79b05a",
   "outputs": [
    {
     "data": {
      "text/plain": [
       "      location        date  stringency_index  stringency_index_nonvac  \\\n",
       "0  Afghanistan  2020-01-05               0.0                      0.0   \n",
       "1  Afghanistan  2020-01-06               0.0                      0.0   \n",
       "2  Afghanistan  2020-01-07               0.0                      0.0   \n",
       "3  Afghanistan  2020-01-08               0.0                      0.0   \n",
       "4  Afghanistan  2020-01-09               0.0                      0.0   \n",
       "\n",
       "   stringency_index_vac  stringency_index_weighted_avg  \n",
       "0                   0.0                            0.0  \n",
       "1                   0.0                            0.0  \n",
       "2                   0.0                            0.0  \n",
       "3                   0.0                            0.0  \n",
       "4                   0.0                            0.0  "
      ],
      "text/html": [
       "<div>\n",
       "<style scoped>\n",
       "    .dataframe tbody tr th:only-of-type {\n",
       "        vertical-align: middle;\n",
       "    }\n",
       "\n",
       "    .dataframe tbody tr th {\n",
       "        vertical-align: top;\n",
       "    }\n",
       "\n",
       "    .dataframe thead th {\n",
       "        text-align: right;\n",
       "    }\n",
       "</style>\n",
       "<table border=\"1\" class=\"dataframe\">\n",
       "  <thead>\n",
       "    <tr style=\"text-align: right;\">\n",
       "      <th></th>\n",
       "      <th>location</th>\n",
       "      <th>date</th>\n",
       "      <th>stringency_index</th>\n",
       "      <th>stringency_index_nonvac</th>\n",
       "      <th>stringency_index_vac</th>\n",
       "      <th>stringency_index_weighted_avg</th>\n",
       "    </tr>\n",
       "  </thead>\n",
       "  <tbody>\n",
       "    <tr>\n",
       "      <th>0</th>\n",
       "      <td>Afghanistan</td>\n",
       "      <td>2020-01-05</td>\n",
       "      <td>0.0</td>\n",
       "      <td>0.0</td>\n",
       "      <td>0.0</td>\n",
       "      <td>0.0</td>\n",
       "    </tr>\n",
       "    <tr>\n",
       "      <th>1</th>\n",
       "      <td>Afghanistan</td>\n",
       "      <td>2020-01-06</td>\n",
       "      <td>0.0</td>\n",
       "      <td>0.0</td>\n",
       "      <td>0.0</td>\n",
       "      <td>0.0</td>\n",
       "    </tr>\n",
       "    <tr>\n",
       "      <th>2</th>\n",
       "      <td>Afghanistan</td>\n",
       "      <td>2020-01-07</td>\n",
       "      <td>0.0</td>\n",
       "      <td>0.0</td>\n",
       "      <td>0.0</td>\n",
       "      <td>0.0</td>\n",
       "    </tr>\n",
       "    <tr>\n",
       "      <th>3</th>\n",
       "      <td>Afghanistan</td>\n",
       "      <td>2020-01-08</td>\n",
       "      <td>0.0</td>\n",
       "      <td>0.0</td>\n",
       "      <td>0.0</td>\n",
       "      <td>0.0</td>\n",
       "    </tr>\n",
       "    <tr>\n",
       "      <th>4</th>\n",
       "      <td>Afghanistan</td>\n",
       "      <td>2020-01-09</td>\n",
       "      <td>0.0</td>\n",
       "      <td>0.0</td>\n",
       "      <td>0.0</td>\n",
       "      <td>0.0</td>\n",
       "    </tr>\n",
       "  </tbody>\n",
       "</table>\n",
       "</div>"
      ]
     },
     "execution_count": 4,
     "metadata": {},
     "output_type": "execute_result"
    }
   ],
   "execution_count": 4
  },
  {
   "metadata": {
    "ExecuteTime": {
     "end_time": "2024-07-09T15:30:38.421627Z",
     "start_time": "2024-07-09T15:30:38.399317Z"
    }
   },
   "cell_type": "code",
   "source": "main_df = pd.read_csv(\"covid19-data.csv\")",
   "id": "dfa5f73d39c1894f",
   "outputs": [],
   "execution_count": 5
  },
  {
   "metadata": {
    "ExecuteTime": {
     "end_time": "2024-07-09T15:30:38.459Z",
     "start_time": "2024-07-09T15:30:38.421627Z"
    }
   },
   "cell_type": "code",
   "source": [
    "stringency_df.drop(stringency_df[['stringency_index_nonvac', 'stringency_index_vac', 'stringency_index_weighted_avg']], axis=1, inplace=True)\n",
    "\n",
    "stringency_df.head()"
   ],
   "id": "d4ec37f003410484",
   "outputs": [
    {
     "data": {
      "text/plain": [
       "      location        date  stringency_index\n",
       "0  Afghanistan  2020-01-05               0.0\n",
       "1  Afghanistan  2020-01-06               0.0\n",
       "2  Afghanistan  2020-01-07               0.0\n",
       "3  Afghanistan  2020-01-08               0.0\n",
       "4  Afghanistan  2020-01-09               0.0"
      ],
      "text/html": [
       "<div>\n",
       "<style scoped>\n",
       "    .dataframe tbody tr th:only-of-type {\n",
       "        vertical-align: middle;\n",
       "    }\n",
       "\n",
       "    .dataframe tbody tr th {\n",
       "        vertical-align: top;\n",
       "    }\n",
       "\n",
       "    .dataframe thead th {\n",
       "        text-align: right;\n",
       "    }\n",
       "</style>\n",
       "<table border=\"1\" class=\"dataframe\">\n",
       "  <thead>\n",
       "    <tr style=\"text-align: right;\">\n",
       "      <th></th>\n",
       "      <th>location</th>\n",
       "      <th>date</th>\n",
       "      <th>stringency_index</th>\n",
       "    </tr>\n",
       "  </thead>\n",
       "  <tbody>\n",
       "    <tr>\n",
       "      <th>0</th>\n",
       "      <td>Afghanistan</td>\n",
       "      <td>2020-01-05</td>\n",
       "      <td>0.0</td>\n",
       "    </tr>\n",
       "    <tr>\n",
       "      <th>1</th>\n",
       "      <td>Afghanistan</td>\n",
       "      <td>2020-01-06</td>\n",
       "      <td>0.0</td>\n",
       "    </tr>\n",
       "    <tr>\n",
       "      <th>2</th>\n",
       "      <td>Afghanistan</td>\n",
       "      <td>2020-01-07</td>\n",
       "      <td>0.0</td>\n",
       "    </tr>\n",
       "    <tr>\n",
       "      <th>3</th>\n",
       "      <td>Afghanistan</td>\n",
       "      <td>2020-01-08</td>\n",
       "      <td>0.0</td>\n",
       "    </tr>\n",
       "    <tr>\n",
       "      <th>4</th>\n",
       "      <td>Afghanistan</td>\n",
       "      <td>2020-01-09</td>\n",
       "      <td>0.0</td>\n",
       "    </tr>\n",
       "  </tbody>\n",
       "</table>\n",
       "</div>"
      ]
     },
     "execution_count": 6,
     "metadata": {},
     "output_type": "execute_result"
    }
   ],
   "execution_count": 6
  },
  {
   "metadata": {
    "ExecuteTime": {
     "end_time": "2024-07-09T15:30:38.496836Z",
     "start_time": "2024-07-09T15:30:38.459Z"
    }
   },
   "cell_type": "code",
   "source": "stringency_df.info()",
   "id": "9f9b5496c7b71cee",
   "outputs": [
    {
     "name": "stdout",
     "output_type": "stream",
     "text": [
      "<class 'pandas.core.frame.DataFrame'>\n",
      "RangeIndex: 201592 entries, 0 to 201591\n",
      "Data columns (total 3 columns):\n",
      " #   Column            Non-Null Count   Dtype  \n",
      "---  ------            --------------   -----  \n",
      " 0   location          201592 non-null  object \n",
      " 1   date              201592 non-null  object \n",
      " 2   stringency_index  197292 non-null  float64\n",
      "dtypes: float64(1), object(2)\n",
      "memory usage: 4.6+ MB\n"
     ]
    }
   ],
   "execution_count": 7
  },
  {
   "metadata": {
    "ExecuteTime": {
     "end_time": "2024-07-09T15:30:38.518534Z",
     "start_time": "2024-07-09T15:30:38.496836Z"
    }
   },
   "cell_type": "code",
   "source": [
    "# Get the stringency index for the countries at the end of 2020, (early start of 2021)\n",
    "\n",
    "criteria = (stringency_df['date'] == \"2021-01-01\")"
   ],
   "id": "ff27b3730db70bf6",
   "outputs": [],
   "execution_count": 8
  },
  {
   "metadata": {
    "ExecuteTime": {
     "end_time": "2024-07-09T15:30:38.527382Z",
     "start_time": "2024-07-09T15:30:38.518534Z"
    }
   },
   "cell_type": "code",
   "source": "filtered_data = stringency_df.loc[criteria]",
   "id": "ca7faed1d31f5e86",
   "outputs": [],
   "execution_count": 9
  },
  {
   "metadata": {
    "ExecuteTime": {
     "end_time": "2024-07-09T15:30:38.540971Z",
     "start_time": "2024-07-09T15:30:38.527382Z"
    }
   },
   "cell_type": "code",
   "source": "filtered_data.head()",
   "id": "b0117c2a1404f536",
   "outputs": [
    {
     "data": {
      "text/plain": [
       "         location        date  stringency_index\n",
       "362   Afghanistan  2021-01-01             12.04\n",
       "1454      Albania  2021-01-01             56.48\n",
       "2546      Algeria  2021-01-01             72.22\n",
       "3638      Andorra  2021-01-01             52.78\n",
       "4730       Angola  2021-01-01             65.74"
      ],
      "text/html": [
       "<div>\n",
       "<style scoped>\n",
       "    .dataframe tbody tr th:only-of-type {\n",
       "        vertical-align: middle;\n",
       "    }\n",
       "\n",
       "    .dataframe tbody tr th {\n",
       "        vertical-align: top;\n",
       "    }\n",
       "\n",
       "    .dataframe thead th {\n",
       "        text-align: right;\n",
       "    }\n",
       "</style>\n",
       "<table border=\"1\" class=\"dataframe\">\n",
       "  <thead>\n",
       "    <tr style=\"text-align: right;\">\n",
       "      <th></th>\n",
       "      <th>location</th>\n",
       "      <th>date</th>\n",
       "      <th>stringency_index</th>\n",
       "    </tr>\n",
       "  </thead>\n",
       "  <tbody>\n",
       "    <tr>\n",
       "      <th>362</th>\n",
       "      <td>Afghanistan</td>\n",
       "      <td>2021-01-01</td>\n",
       "      <td>12.04</td>\n",
       "    </tr>\n",
       "    <tr>\n",
       "      <th>1454</th>\n",
       "      <td>Albania</td>\n",
       "      <td>2021-01-01</td>\n",
       "      <td>56.48</td>\n",
       "    </tr>\n",
       "    <tr>\n",
       "      <th>2546</th>\n",
       "      <td>Algeria</td>\n",
       "      <td>2021-01-01</td>\n",
       "      <td>72.22</td>\n",
       "    </tr>\n",
       "    <tr>\n",
       "      <th>3638</th>\n",
       "      <td>Andorra</td>\n",
       "      <td>2021-01-01</td>\n",
       "      <td>52.78</td>\n",
       "    </tr>\n",
       "    <tr>\n",
       "      <th>4730</th>\n",
       "      <td>Angola</td>\n",
       "      <td>2021-01-01</td>\n",
       "      <td>65.74</td>\n",
       "    </tr>\n",
       "  </tbody>\n",
       "</table>\n",
       "</div>"
      ]
     },
     "execution_count": 10,
     "metadata": {},
     "output_type": "execute_result"
    }
   ],
   "execution_count": 10
  },
  {
   "metadata": {
    "ExecuteTime": {
     "end_time": "2024-07-09T15:30:38.551741Z",
     "start_time": "2024-07-09T15:30:38.540971Z"
    }
   },
   "cell_type": "code",
   "source": "filtered_data['location'].sort_values()",
   "id": "e77538264c9f5703",
   "outputs": [
    {
     "data": {
      "text/plain": [
       "362       Afghanistan\n",
       "1454          Albania\n",
       "2546          Algeria\n",
       "3638          Andorra\n",
       "4730           Angola\n",
       "             ...     \n",
       "196494      Venezuela\n",
       "197586        Vietnam\n",
       "198678          Yemen\n",
       "199770         Zambia\n",
       "200862       Zimbabwe\n",
       "Name: location, Length: 184, dtype: object"
      ]
     },
     "execution_count": 11,
     "metadata": {},
     "output_type": "execute_result"
    }
   ],
   "execution_count": 11
  },
  {
   "metadata": {
    "ExecuteTime": {
     "end_time": "2024-07-09T15:30:38.559903Z",
     "start_time": "2024-07-09T15:30:38.551741Z"
    }
   },
   "cell_type": "code",
   "source": [
    "filtered_data.shape\n",
    "\n",
    "# This means we are missing 3 countries"
   ],
   "id": "c5b6c1f9cbf3ed22",
   "outputs": [
    {
     "data": {
      "text/plain": [
       "(184, 3)"
      ]
     },
     "execution_count": 12,
     "metadata": {},
     "output_type": "execute_result"
    }
   ],
   "execution_count": 12
  },
  {
   "metadata": {
    "ExecuteTime": {
     "end_time": "2024-07-09T15:30:38.580555Z",
     "start_time": "2024-07-09T15:30:38.559903Z"
    }
   },
   "cell_type": "code",
   "source": "countries = list(stringency_df['location'].unique())",
   "id": "290a835700583aa1",
   "outputs": [],
   "execution_count": 13
  },
  {
   "metadata": {
    "ExecuteTime": {
     "end_time": "2024-07-09T15:30:38.591448Z",
     "start_time": "2024-07-09T15:30:38.580555Z"
    }
   },
   "cell_type": "code",
   "source": "countries_in_main = list(main_df['Country'].unique())",
   "id": "ab4641b30909c8ba",
   "outputs": [],
   "execution_count": 14
  },
  {
   "metadata": {
    "ExecuteTime": {
     "end_time": "2024-07-09T15:30:38.600433Z",
     "start_time": "2024-07-09T15:30:38.591448Z"
    }
   },
   "cell_type": "code",
   "source": [
    "print(len(countries))\n",
    "print(len(countries_in_main))"
   ],
   "id": "1e0744821f25209d",
   "outputs": [
    {
     "name": "stdout",
     "output_type": "stream",
     "text": [
      "185\n",
      "187\n"
     ]
    }
   ],
   "execution_count": 15
  },
  {
   "metadata": {
    "ExecuteTime": {
     "end_time": "2024-07-09T15:30:38.609744Z",
     "start_time": "2024-07-09T15:30:38.600433Z"
    }
   },
   "cell_type": "code",
   "source": "missing_countries = set(countries_in_main) - set(countries)",
   "id": "adfab93461976592",
   "outputs": [],
   "execution_count": 16
  },
  {
   "metadata": {
    "ExecuteTime": {
     "end_time": "2024-07-09T15:30:38.618726Z",
     "start_time": "2024-07-09T15:30:38.610754Z"
    }
   },
   "cell_type": "code",
   "source": "missing_stringency = set(countries) - set(countries_in_main)",
   "id": "6aac62b70a86e11f",
   "outputs": [],
   "execution_count": 17
  },
  {
   "metadata": {
    "ExecuteTime": {
     "end_time": "2024-07-09T15:30:38.629744Z",
     "start_time": "2024-07-09T15:30:38.618726Z"
    }
   },
   "cell_type": "code",
   "source": "missing_stringency",
   "id": "71d5205a2fcdf5a2",
   "outputs": [
    {
     "data": {
      "text/plain": [
       "{'Aruba',\n",
       " 'Bermuda',\n",
       " 'Cape Verde',\n",
       " 'Congo',\n",
       " 'Democratic Republic of Congo',\n",
       " 'Faeroe Islands',\n",
       " 'Guam',\n",
       " 'Hong Kong',\n",
       " 'Kiribati',\n",
       " 'Macao',\n",
       " 'Myanmar',\n",
       " 'Palestine',\n",
       " 'Puerto Rico',\n",
       " 'Solomon Islands',\n",
       " 'Taiwan',\n",
       " 'Timor',\n",
       " 'Tonga',\n",
       " 'Turkmenistan',\n",
       " 'United States',\n",
       " 'United States Virgin Islands',\n",
       " 'Vanuatu'}"
      ]
     },
     "execution_count": 18,
     "metadata": {},
     "output_type": "execute_result"
    }
   ],
   "execution_count": 18
  },
  {
   "metadata": {
    "ExecuteTime": {
     "end_time": "2024-07-09T15:30:38.639027Z",
     "start_time": "2024-07-09T15:30:38.629744Z"
    }
   },
   "cell_type": "code",
   "source": "missing_countries",
   "id": "9501dcb83d7d4b78",
   "outputs": [
    {
     "data": {
      "text/plain": [
       "{'Antigua and Barbuda',\n",
       " 'Armenia',\n",
       " 'Burma',\n",
       " 'Cabo Verde',\n",
       " 'Comoros',\n",
       " 'Congo (Brazzaville)',\n",
       " 'Congo (Kinshasa)',\n",
       " 'Equatorial Guinea',\n",
       " 'Grenada',\n",
       " 'Guinea-Bissau',\n",
       " 'Holy See',\n",
       " 'Maldives',\n",
       " 'Montenegro',\n",
       " 'North Macedonia',\n",
       " 'Saint Kitts and Nevis',\n",
       " 'Saint Lucia',\n",
       " 'Saint Vincent and the Grenadines',\n",
       " 'Sao Tome and Principe',\n",
       " 'Taiwan*',\n",
       " 'Timor-Leste',\n",
       " 'US',\n",
       " 'West Bank and Gaza',\n",
       " 'Western Sahara'}"
      ]
     },
     "execution_count": 19,
     "metadata": {},
     "output_type": "execute_result"
    }
   ],
   "execution_count": 19
  },
  {
   "metadata": {
    "ExecuteTime": {
     "end_time": "2024-07-09T15:30:38.662532Z",
     "start_time": "2024-07-09T15:30:38.639027Z"
    }
   },
   "cell_type": "code",
   "source": [
    "countries_in_main = main_df['Country'].unique()\n",
    "countries = stringency_df['location'].unique()\n",
    "\n",
    "missing_in_stringency = set(countries_in_main) - set(countries)\n",
    "missing_in_main = set(countries) - set(countries_in_main)\n",
    "\n",
    "print(f\"Countries in main dataset but not in stringency index dataset after mapping: {missing_in_stringency}\")\n",
    "print(f\"Countries in stringency index dataset but not in main dataset after mapping: {missing_in_main}\")"
   ],
   "id": "1edecc47a7e104df",
   "outputs": [
    {
     "name": "stdout",
     "output_type": "stream",
     "text": [
      "Countries in main dataset but not in stringency index dataset after mapping: {'North Macedonia', 'Holy See', 'Comoros', 'Saint Kitts and Nevis', 'Congo (Kinshasa)', 'Maldives', 'Cabo Verde', 'Burma', 'US', 'Taiwan*', 'Congo (Brazzaville)', 'West Bank and Gaza', 'Sao Tome and Principe', 'Montenegro', 'Grenada', 'Armenia', 'Saint Vincent and the Grenadines', 'Guinea-Bissau', 'Western Sahara', 'Saint Lucia', 'Timor-Leste', 'Equatorial Guinea', 'Antigua and Barbuda'}\n",
      "Countries in stringency index dataset but not in main dataset after mapping: {'Turkmenistan', 'Hong Kong', 'Tonga', 'Timor', 'Bermuda', 'United States', 'Puerto Rico', 'Vanuatu', 'Macao', 'United States Virgin Islands', 'Solomon Islands', 'Kiribati', 'Faeroe Islands', 'Aruba', 'Democratic Republic of Congo', 'Myanmar', 'Cape Verde', 'Guam', 'Congo', 'Palestine', 'Taiwan'}\n"
     ]
    }
   ],
   "execution_count": 20
  },
  {
   "metadata": {
    "ExecuteTime": {
     "end_time": "2024-07-09T15:30:38.670734Z",
     "start_time": "2024-07-09T15:30:38.662532Z"
    }
   },
   "cell_type": "code",
   "source": [
    "country_mapping = {\n",
    "    'United States': 'US',\n",
    "    'United States Virgin Islands': 'Virgin Islands, US',\n",
    "    'Democratic Republic of Congo': 'Congo (Kinshasa)',\n",
    "    'Congo': 'Congo (Brazzaville)',\n",
    "    'Myanmar': 'Burma',\n",
    "    'Cape Verde': 'Cabo Verde',\n",
    "    'Timor': 'Timor-Leste',\n",
    "    'Taiwan': 'Taiwan*',\n",
    "    'Hong Kong': 'Hong Kong SAR, China',\n",
    "    'Macao': 'Macao SAR, China',\n",
    "    'Faeroe Islands': 'Faroe Islands',\n",
    "    'Palestine': 'West Bank and Gaza'\n",
    "}"
   ],
   "id": "c48966cde3c9216",
   "outputs": [],
   "execution_count": 21
  },
  {
   "metadata": {
    "ExecuteTime": {
     "end_time": "2024-07-09T15:30:38.684794Z",
     "start_time": "2024-07-09T15:30:38.670734Z"
    }
   },
   "cell_type": "code",
   "source": "filtered_data.loc[:, 'location'] = filtered_data['location'].replace(country_mapping)",
   "id": "7e86feafbb2e21e1",
   "outputs": [],
   "execution_count": 22
  },
  {
   "metadata": {
    "ExecuteTime": {
     "end_time": "2024-07-09T15:30:38.697121Z",
     "start_time": "2024-07-09T15:30:38.684794Z"
    }
   },
   "cell_type": "code",
   "source": [
    "# Filter out unmatched countries only from the stringency dataset\n",
    "stringency_df_filtered = filtered_data[~filtered_data['location'].isin(missing_in_main)]"
   ],
   "id": "d2cab5ec4c9e7fa4",
   "outputs": [],
   "execution_count": 23
  },
  {
   "metadata": {
    "ExecuteTime": {
     "end_time": "2024-07-09T15:30:38.718320Z",
     "start_time": "2024-07-09T15:30:38.697121Z"
    }
   },
   "cell_type": "code",
   "source": [
    "# Merge the datasets on the standardized country names, keeping all countries in the main dataset\n",
    "merged_df = main_df.merge(stringency_df_filtered, left_on='Country', right_on='location', how='left')"
   ],
   "id": "a9e6d72046940a0b",
   "outputs": [],
   "execution_count": 24
  },
  {
   "metadata": {
    "ExecuteTime": {
     "end_time": "2024-07-09T15:30:38.739734Z",
     "start_time": "2024-07-09T15:30:38.718320Z"
    }
   },
   "cell_type": "code",
   "source": "merged_df.head(10)",
   "id": "f6f47bd58bdfd5ad",
   "outputs": [
    {
     "data": {
      "text/plain": [
       "               Country  Confirmed  Deaths  Recovered  Active  New cases  \\\n",
       "0          Afghanistan      36263    1269      25198    9796        106   \n",
       "1              Albania       4880     144       2745    1991        117   \n",
       "2              Algeria      27973    1163      18837    7973        616   \n",
       "3              Andorra        907      52        803      52         10   \n",
       "4               Angola        950      41        242     667         18   \n",
       "5  Antigua and Barbuda         86       3         65      18          4   \n",
       "6            Argentina     167416    3059      72575   91782       4890   \n",
       "7              Armenia      37390     711      26665   10014         73   \n",
       "8            Australia      15303     167       9311    5825        368   \n",
       "9              Austria      20558     713      18246    1599         86   \n",
       "\n",
       "   New deaths  New recovered  Deaths / 100 Cases  Recovered / 100 Cases  \\\n",
       "0          10             18                3.50                  69.49   \n",
       "1           6             63                2.95                  56.25   \n",
       "2           8            749                4.16                  67.34   \n",
       "3           0              0                5.73                  88.53   \n",
       "4           1              0                4.32                  25.47   \n",
       "5           0              5                3.49                  75.58   \n",
       "6         120           2057                1.83                  43.35   \n",
       "7           6            187                1.90                  71.32   \n",
       "8           6            137                1.09                  60.84   \n",
       "9           1             37                3.47                  88.75   \n",
       "\n",
       "   Deaths / 100 Recovered  Confirmed last week  1 week change  \\\n",
       "0                    5.04                35526            737   \n",
       "1                    5.25                 4171            709   \n",
       "2                    6.17                23691           4282   \n",
       "3                    6.48                  884             23   \n",
       "4                   16.94                  749            201   \n",
       "5                    4.62                   76             10   \n",
       "6                    4.21               130774          36642   \n",
       "7                    2.67                34981           2409   \n",
       "8                    1.79                12428           2875   \n",
       "9                    3.91                19743            815   \n",
       "\n",
       "   1 week % increase             WHO Region     location        date  \\\n",
       "0               2.07  Eastern Mediterranean  Afghanistan  2021-01-01   \n",
       "1              17.00                 Europe      Albania  2021-01-01   \n",
       "2              18.07                 Africa      Algeria  2021-01-01   \n",
       "3               2.60                 Europe      Andorra  2021-01-01   \n",
       "4              26.84                 Africa       Angola  2021-01-01   \n",
       "5              13.16               Americas          NaN         NaN   \n",
       "6              28.02               Americas    Argentina  2021-01-01   \n",
       "7               6.89                 Europe          NaN         NaN   \n",
       "8              23.13        Western Pacific    Australia  2021-01-01   \n",
       "9               4.13                 Europe      Austria  2021-01-01   \n",
       "\n",
       "   stringency_index  \n",
       "0             12.04  \n",
       "1             56.48  \n",
       "2             72.22  \n",
       "3             52.78  \n",
       "4             65.74  \n",
       "5               NaN  \n",
       "6             79.17  \n",
       "7               NaN  \n",
       "8             70.83  \n",
       "9             82.41  "
      ],
      "text/html": [
       "<div>\n",
       "<style scoped>\n",
       "    .dataframe tbody tr th:only-of-type {\n",
       "        vertical-align: middle;\n",
       "    }\n",
       "\n",
       "    .dataframe tbody tr th {\n",
       "        vertical-align: top;\n",
       "    }\n",
       "\n",
       "    .dataframe thead th {\n",
       "        text-align: right;\n",
       "    }\n",
       "</style>\n",
       "<table border=\"1\" class=\"dataframe\">\n",
       "  <thead>\n",
       "    <tr style=\"text-align: right;\">\n",
       "      <th></th>\n",
       "      <th>Country</th>\n",
       "      <th>Confirmed</th>\n",
       "      <th>Deaths</th>\n",
       "      <th>Recovered</th>\n",
       "      <th>Active</th>\n",
       "      <th>New cases</th>\n",
       "      <th>New deaths</th>\n",
       "      <th>New recovered</th>\n",
       "      <th>Deaths / 100 Cases</th>\n",
       "      <th>Recovered / 100 Cases</th>\n",
       "      <th>Deaths / 100 Recovered</th>\n",
       "      <th>Confirmed last week</th>\n",
       "      <th>1 week change</th>\n",
       "      <th>1 week % increase</th>\n",
       "      <th>WHO Region</th>\n",
       "      <th>location</th>\n",
       "      <th>date</th>\n",
       "      <th>stringency_index</th>\n",
       "    </tr>\n",
       "  </thead>\n",
       "  <tbody>\n",
       "    <tr>\n",
       "      <th>0</th>\n",
       "      <td>Afghanistan</td>\n",
       "      <td>36263</td>\n",
       "      <td>1269</td>\n",
       "      <td>25198</td>\n",
       "      <td>9796</td>\n",
       "      <td>106</td>\n",
       "      <td>10</td>\n",
       "      <td>18</td>\n",
       "      <td>3.50</td>\n",
       "      <td>69.49</td>\n",
       "      <td>5.04</td>\n",
       "      <td>35526</td>\n",
       "      <td>737</td>\n",
       "      <td>2.07</td>\n",
       "      <td>Eastern Mediterranean</td>\n",
       "      <td>Afghanistan</td>\n",
       "      <td>2021-01-01</td>\n",
       "      <td>12.04</td>\n",
       "    </tr>\n",
       "    <tr>\n",
       "      <th>1</th>\n",
       "      <td>Albania</td>\n",
       "      <td>4880</td>\n",
       "      <td>144</td>\n",
       "      <td>2745</td>\n",
       "      <td>1991</td>\n",
       "      <td>117</td>\n",
       "      <td>6</td>\n",
       "      <td>63</td>\n",
       "      <td>2.95</td>\n",
       "      <td>56.25</td>\n",
       "      <td>5.25</td>\n",
       "      <td>4171</td>\n",
       "      <td>709</td>\n",
       "      <td>17.00</td>\n",
       "      <td>Europe</td>\n",
       "      <td>Albania</td>\n",
       "      <td>2021-01-01</td>\n",
       "      <td>56.48</td>\n",
       "    </tr>\n",
       "    <tr>\n",
       "      <th>2</th>\n",
       "      <td>Algeria</td>\n",
       "      <td>27973</td>\n",
       "      <td>1163</td>\n",
       "      <td>18837</td>\n",
       "      <td>7973</td>\n",
       "      <td>616</td>\n",
       "      <td>8</td>\n",
       "      <td>749</td>\n",
       "      <td>4.16</td>\n",
       "      <td>67.34</td>\n",
       "      <td>6.17</td>\n",
       "      <td>23691</td>\n",
       "      <td>4282</td>\n",
       "      <td>18.07</td>\n",
       "      <td>Africa</td>\n",
       "      <td>Algeria</td>\n",
       "      <td>2021-01-01</td>\n",
       "      <td>72.22</td>\n",
       "    </tr>\n",
       "    <tr>\n",
       "      <th>3</th>\n",
       "      <td>Andorra</td>\n",
       "      <td>907</td>\n",
       "      <td>52</td>\n",
       "      <td>803</td>\n",
       "      <td>52</td>\n",
       "      <td>10</td>\n",
       "      <td>0</td>\n",
       "      <td>0</td>\n",
       "      <td>5.73</td>\n",
       "      <td>88.53</td>\n",
       "      <td>6.48</td>\n",
       "      <td>884</td>\n",
       "      <td>23</td>\n",
       "      <td>2.60</td>\n",
       "      <td>Europe</td>\n",
       "      <td>Andorra</td>\n",
       "      <td>2021-01-01</td>\n",
       "      <td>52.78</td>\n",
       "    </tr>\n",
       "    <tr>\n",
       "      <th>4</th>\n",
       "      <td>Angola</td>\n",
       "      <td>950</td>\n",
       "      <td>41</td>\n",
       "      <td>242</td>\n",
       "      <td>667</td>\n",
       "      <td>18</td>\n",
       "      <td>1</td>\n",
       "      <td>0</td>\n",
       "      <td>4.32</td>\n",
       "      <td>25.47</td>\n",
       "      <td>16.94</td>\n",
       "      <td>749</td>\n",
       "      <td>201</td>\n",
       "      <td>26.84</td>\n",
       "      <td>Africa</td>\n",
       "      <td>Angola</td>\n",
       "      <td>2021-01-01</td>\n",
       "      <td>65.74</td>\n",
       "    </tr>\n",
       "    <tr>\n",
       "      <th>5</th>\n",
       "      <td>Antigua and Barbuda</td>\n",
       "      <td>86</td>\n",
       "      <td>3</td>\n",
       "      <td>65</td>\n",
       "      <td>18</td>\n",
       "      <td>4</td>\n",
       "      <td>0</td>\n",
       "      <td>5</td>\n",
       "      <td>3.49</td>\n",
       "      <td>75.58</td>\n",
       "      <td>4.62</td>\n",
       "      <td>76</td>\n",
       "      <td>10</td>\n",
       "      <td>13.16</td>\n",
       "      <td>Americas</td>\n",
       "      <td>NaN</td>\n",
       "      <td>NaN</td>\n",
       "      <td>NaN</td>\n",
       "    </tr>\n",
       "    <tr>\n",
       "      <th>6</th>\n",
       "      <td>Argentina</td>\n",
       "      <td>167416</td>\n",
       "      <td>3059</td>\n",
       "      <td>72575</td>\n",
       "      <td>91782</td>\n",
       "      <td>4890</td>\n",
       "      <td>120</td>\n",
       "      <td>2057</td>\n",
       "      <td>1.83</td>\n",
       "      <td>43.35</td>\n",
       "      <td>4.21</td>\n",
       "      <td>130774</td>\n",
       "      <td>36642</td>\n",
       "      <td>28.02</td>\n",
       "      <td>Americas</td>\n",
       "      <td>Argentina</td>\n",
       "      <td>2021-01-01</td>\n",
       "      <td>79.17</td>\n",
       "    </tr>\n",
       "    <tr>\n",
       "      <th>7</th>\n",
       "      <td>Armenia</td>\n",
       "      <td>37390</td>\n",
       "      <td>711</td>\n",
       "      <td>26665</td>\n",
       "      <td>10014</td>\n",
       "      <td>73</td>\n",
       "      <td>6</td>\n",
       "      <td>187</td>\n",
       "      <td>1.90</td>\n",
       "      <td>71.32</td>\n",
       "      <td>2.67</td>\n",
       "      <td>34981</td>\n",
       "      <td>2409</td>\n",
       "      <td>6.89</td>\n",
       "      <td>Europe</td>\n",
       "      <td>NaN</td>\n",
       "      <td>NaN</td>\n",
       "      <td>NaN</td>\n",
       "    </tr>\n",
       "    <tr>\n",
       "      <th>8</th>\n",
       "      <td>Australia</td>\n",
       "      <td>15303</td>\n",
       "      <td>167</td>\n",
       "      <td>9311</td>\n",
       "      <td>5825</td>\n",
       "      <td>368</td>\n",
       "      <td>6</td>\n",
       "      <td>137</td>\n",
       "      <td>1.09</td>\n",
       "      <td>60.84</td>\n",
       "      <td>1.79</td>\n",
       "      <td>12428</td>\n",
       "      <td>2875</td>\n",
       "      <td>23.13</td>\n",
       "      <td>Western Pacific</td>\n",
       "      <td>Australia</td>\n",
       "      <td>2021-01-01</td>\n",
       "      <td>70.83</td>\n",
       "    </tr>\n",
       "    <tr>\n",
       "      <th>9</th>\n",
       "      <td>Austria</td>\n",
       "      <td>20558</td>\n",
       "      <td>713</td>\n",
       "      <td>18246</td>\n",
       "      <td>1599</td>\n",
       "      <td>86</td>\n",
       "      <td>1</td>\n",
       "      <td>37</td>\n",
       "      <td>3.47</td>\n",
       "      <td>88.75</td>\n",
       "      <td>3.91</td>\n",
       "      <td>19743</td>\n",
       "      <td>815</td>\n",
       "      <td>4.13</td>\n",
       "      <td>Europe</td>\n",
       "      <td>Austria</td>\n",
       "      <td>2021-01-01</td>\n",
       "      <td>82.41</td>\n",
       "    </tr>\n",
       "  </tbody>\n",
       "</table>\n",
       "</div>"
      ]
     },
     "execution_count": 25,
     "metadata": {},
     "output_type": "execute_result"
    }
   ],
   "execution_count": 25
  },
  {
   "metadata": {
    "ExecuteTime": {
     "end_time": "2024-07-09T15:30:38.752264Z",
     "start_time": "2024-07-09T15:30:38.739734Z"
    }
   },
   "cell_type": "code",
   "source": "merged_df.isnull().sum()",
   "id": "a44c12447e9d2b4d",
   "outputs": [
    {
     "data": {
      "text/plain": [
       "Country                    0\n",
       "Confirmed                  0\n",
       "Deaths                     0\n",
       "Recovered                  0\n",
       "Active                     0\n",
       "New cases                  0\n",
       "New deaths                 0\n",
       "New recovered              0\n",
       "Deaths / 100 Cases         0\n",
       "Recovered / 100 Cases      0\n",
       "Deaths / 100 Recovered     0\n",
       "Confirmed last week        0\n",
       "1 week change              0\n",
       "1 week % increase          0\n",
       "WHO Region                 0\n",
       "location                  15\n",
       "date                      15\n",
       "stringency_index          16\n",
       "dtype: int64"
      ]
     },
     "execution_count": 26,
     "metadata": {},
     "output_type": "execute_result"
    }
   ],
   "execution_count": 26
  },
  {
   "metadata": {
    "ExecuteTime": {
     "end_time": "2024-07-09T15:30:38.766624Z",
     "start_time": "2024-07-09T15:30:38.752264Z"
    }
   },
   "cell_type": "code",
   "source": [
    "null_counts = merged_df[['Country', 'location', 'date', 'stringency_index']].isnull().sum(axis=1)\n",
    "\n",
    "merged_df['null_count'] = null_counts\n",
    "countries_with_many_nulls = merged_df[merged_df['null_count'] > 0]"
   ],
   "id": "735285e5caba5aa7",
   "outputs": [],
   "execution_count": 27
  },
  {
   "metadata": {
    "ExecuteTime": {
     "end_time": "2024-07-09T15:30:38.785591Z",
     "start_time": "2024-07-09T15:30:38.766624Z"
    }
   },
   "cell_type": "code",
   "source": "countries_with_many_nulls[['Country', 'location', 'date', 'stringency_index', 'null_count']]",
   "id": "8626cb458ede7944",
   "outputs": [
    {
     "data": {
      "text/plain": [
       "                              Country location        date  stringency_index  \\\n",
       "5                 Antigua and Barbuda      NaN         NaN               NaN   \n",
       "7                             Armenia      NaN         NaN               NaN   \n",
       "38                            Comoros      NaN         NaN               NaN   \n",
       "54                  Equatorial Guinea      NaN         NaN               NaN   \n",
       "55                            Eritrea  Eritrea  2021-01-01               NaN   \n",
       "69                            Grenada      NaN         NaN               NaN   \n",
       "72                      Guinea-Bissau      NaN         NaN               NaN   \n",
       "75                           Holy See      NaN         NaN               NaN   \n",
       "106                          Maldives      NaN         NaN               NaN   \n",
       "115                        Montenegro      NaN         NaN               NaN   \n",
       "125                   North Macedonia      NaN         NaN               NaN   \n",
       "140             Saint Kitts and Nevis      NaN         NaN               NaN   \n",
       "141                       Saint Lucia      NaN         NaN               NaN   \n",
       "142  Saint Vincent and the Grenadines      NaN         NaN               NaN   \n",
       "144             Sao Tome and Principe      NaN         NaN               NaN   \n",
       "183                    Western Sahara      NaN         NaN               NaN   \n",
       "\n",
       "     null_count  \n",
       "5             3  \n",
       "7             3  \n",
       "38            3  \n",
       "54            3  \n",
       "55            1  \n",
       "69            3  \n",
       "72            3  \n",
       "75            3  \n",
       "106           3  \n",
       "115           3  \n",
       "125           3  \n",
       "140           3  \n",
       "141           3  \n",
       "142           3  \n",
       "144           3  \n",
       "183           3  "
      ],
      "text/html": [
       "<div>\n",
       "<style scoped>\n",
       "    .dataframe tbody tr th:only-of-type {\n",
       "        vertical-align: middle;\n",
       "    }\n",
       "\n",
       "    .dataframe tbody tr th {\n",
       "        vertical-align: top;\n",
       "    }\n",
       "\n",
       "    .dataframe thead th {\n",
       "        text-align: right;\n",
       "    }\n",
       "</style>\n",
       "<table border=\"1\" class=\"dataframe\">\n",
       "  <thead>\n",
       "    <tr style=\"text-align: right;\">\n",
       "      <th></th>\n",
       "      <th>Country</th>\n",
       "      <th>location</th>\n",
       "      <th>date</th>\n",
       "      <th>stringency_index</th>\n",
       "      <th>null_count</th>\n",
       "    </tr>\n",
       "  </thead>\n",
       "  <tbody>\n",
       "    <tr>\n",
       "      <th>5</th>\n",
       "      <td>Antigua and Barbuda</td>\n",
       "      <td>NaN</td>\n",
       "      <td>NaN</td>\n",
       "      <td>NaN</td>\n",
       "      <td>3</td>\n",
       "    </tr>\n",
       "    <tr>\n",
       "      <th>7</th>\n",
       "      <td>Armenia</td>\n",
       "      <td>NaN</td>\n",
       "      <td>NaN</td>\n",
       "      <td>NaN</td>\n",
       "      <td>3</td>\n",
       "    </tr>\n",
       "    <tr>\n",
       "      <th>38</th>\n",
       "      <td>Comoros</td>\n",
       "      <td>NaN</td>\n",
       "      <td>NaN</td>\n",
       "      <td>NaN</td>\n",
       "      <td>3</td>\n",
       "    </tr>\n",
       "    <tr>\n",
       "      <th>54</th>\n",
       "      <td>Equatorial Guinea</td>\n",
       "      <td>NaN</td>\n",
       "      <td>NaN</td>\n",
       "      <td>NaN</td>\n",
       "      <td>3</td>\n",
       "    </tr>\n",
       "    <tr>\n",
       "      <th>55</th>\n",
       "      <td>Eritrea</td>\n",
       "      <td>Eritrea</td>\n",
       "      <td>2021-01-01</td>\n",
       "      <td>NaN</td>\n",
       "      <td>1</td>\n",
       "    </tr>\n",
       "    <tr>\n",
       "      <th>69</th>\n",
       "      <td>Grenada</td>\n",
       "      <td>NaN</td>\n",
       "      <td>NaN</td>\n",
       "      <td>NaN</td>\n",
       "      <td>3</td>\n",
       "    </tr>\n",
       "    <tr>\n",
       "      <th>72</th>\n",
       "      <td>Guinea-Bissau</td>\n",
       "      <td>NaN</td>\n",
       "      <td>NaN</td>\n",
       "      <td>NaN</td>\n",
       "      <td>3</td>\n",
       "    </tr>\n",
       "    <tr>\n",
       "      <th>75</th>\n",
       "      <td>Holy See</td>\n",
       "      <td>NaN</td>\n",
       "      <td>NaN</td>\n",
       "      <td>NaN</td>\n",
       "      <td>3</td>\n",
       "    </tr>\n",
       "    <tr>\n",
       "      <th>106</th>\n",
       "      <td>Maldives</td>\n",
       "      <td>NaN</td>\n",
       "      <td>NaN</td>\n",
       "      <td>NaN</td>\n",
       "      <td>3</td>\n",
       "    </tr>\n",
       "    <tr>\n",
       "      <th>115</th>\n",
       "      <td>Montenegro</td>\n",
       "      <td>NaN</td>\n",
       "      <td>NaN</td>\n",
       "      <td>NaN</td>\n",
       "      <td>3</td>\n",
       "    </tr>\n",
       "    <tr>\n",
       "      <th>125</th>\n",
       "      <td>North Macedonia</td>\n",
       "      <td>NaN</td>\n",
       "      <td>NaN</td>\n",
       "      <td>NaN</td>\n",
       "      <td>3</td>\n",
       "    </tr>\n",
       "    <tr>\n",
       "      <th>140</th>\n",
       "      <td>Saint Kitts and Nevis</td>\n",
       "      <td>NaN</td>\n",
       "      <td>NaN</td>\n",
       "      <td>NaN</td>\n",
       "      <td>3</td>\n",
       "    </tr>\n",
       "    <tr>\n",
       "      <th>141</th>\n",
       "      <td>Saint Lucia</td>\n",
       "      <td>NaN</td>\n",
       "      <td>NaN</td>\n",
       "      <td>NaN</td>\n",
       "      <td>3</td>\n",
       "    </tr>\n",
       "    <tr>\n",
       "      <th>142</th>\n",
       "      <td>Saint Vincent and the Grenadines</td>\n",
       "      <td>NaN</td>\n",
       "      <td>NaN</td>\n",
       "      <td>NaN</td>\n",
       "      <td>3</td>\n",
       "    </tr>\n",
       "    <tr>\n",
       "      <th>144</th>\n",
       "      <td>Sao Tome and Principe</td>\n",
       "      <td>NaN</td>\n",
       "      <td>NaN</td>\n",
       "      <td>NaN</td>\n",
       "      <td>3</td>\n",
       "    </tr>\n",
       "    <tr>\n",
       "      <th>183</th>\n",
       "      <td>Western Sahara</td>\n",
       "      <td>NaN</td>\n",
       "      <td>NaN</td>\n",
       "      <td>NaN</td>\n",
       "      <td>3</td>\n",
       "    </tr>\n",
       "  </tbody>\n",
       "</table>\n",
       "</div>"
      ]
     },
     "execution_count": 28,
     "metadata": {},
     "output_type": "execute_result"
    }
   ],
   "execution_count": 28
  },
  {
   "metadata": {
    "ExecuteTime": {
     "end_time": "2024-07-09T15:30:38.798622Z",
     "start_time": "2024-07-09T15:30:38.785591Z"
    }
   },
   "cell_type": "code",
   "source": "merged_df['stringency_index']",
   "id": "5b182d5b84039dd6",
   "outputs": [
    {
     "data": {
      "text/plain": [
       "0      12.04\n",
       "1      56.48\n",
       "2      72.22\n",
       "3      52.78\n",
       "4      65.74\n",
       "       ...  \n",
       "182    68.06\n",
       "183      NaN\n",
       "184    27.78\n",
       "185    50.93\n",
       "186    69.44\n",
       "Name: stringency_index, Length: 187, dtype: float64"
      ]
     },
     "execution_count": 29,
     "metadata": {},
     "output_type": "execute_result"
    }
   ],
   "execution_count": 29
  },
  {
   "metadata": {
    "ExecuteTime": {
     "end_time": "2024-07-09T15:30:38.810546Z",
     "start_time": "2024-07-09T15:30:38.798622Z"
    }
   },
   "cell_type": "code",
   "source": [
    "# The stringency index for countries is highly volatile and as such a backward or forward fill will not be a good choice. We opted for linear interpolation as it will estimate the missing values based on the trend of surrounding data\n",
    "\n",
    "merged_df['stringency_index'] = merged_df['stringency_index'].interpolate(method='linear')"
   ],
   "id": "7e16ee1b837336e",
   "outputs": [],
   "execution_count": 30
  },
  {
   "metadata": {
    "ExecuteTime": {
     "end_time": "2024-07-09T15:30:38.821263Z",
     "start_time": "2024-07-09T15:30:38.810546Z"
    }
   },
   "cell_type": "code",
   "source": "merged_df['stringency_index'].isnull().sum()",
   "id": "3e0b4acb0d162cc0",
   "outputs": [
    {
     "data": {
      "text/plain": [
       "0"
      ]
     },
     "execution_count": 31,
     "metadata": {},
     "output_type": "execute_result"
    }
   ],
   "execution_count": 31
  },
  {
   "metadata": {
    "ExecuteTime": {
     "end_time": "2024-07-09T15:30:38.847887Z",
     "start_time": "2024-07-09T15:30:38.821263Z"
    }
   },
   "cell_type": "code",
   "source": "merged_df",
   "id": "31bcda586ed02654",
   "outputs": [
    {
     "data": {
      "text/plain": [
       "                Country  Confirmed  Deaths  Recovered  Active  New cases  \\\n",
       "0           Afghanistan      36263    1269      25198    9796        106   \n",
       "1               Albania       4880     144       2745    1991        117   \n",
       "2               Algeria      27973    1163      18837    7973        616   \n",
       "3               Andorra        907      52        803      52         10   \n",
       "4                Angola        950      41        242     667         18   \n",
       "..                  ...        ...     ...        ...     ...        ...   \n",
       "182  West Bank and Gaza      10621      78       3752    6791        152   \n",
       "183      Western Sahara         10       1          8       1          0   \n",
       "184               Yemen       1691     483        833     375         10   \n",
       "185              Zambia       4552     140       2815    1597         71   \n",
       "186            Zimbabwe       2704      36        542    2126        192   \n",
       "\n",
       "     New deaths  New recovered  Deaths / 100 Cases  Recovered / 100 Cases  \\\n",
       "0            10             18                3.50                  69.49   \n",
       "1             6             63                2.95                  56.25   \n",
       "2             8            749                4.16                  67.34   \n",
       "3             0              0                5.73                  88.53   \n",
       "4             1              0                4.32                  25.47   \n",
       "..          ...            ...                 ...                    ...   \n",
       "182           2              0                0.73                  35.33   \n",
       "183           0              0               10.00                  80.00   \n",
       "184           4             36               28.56                  49.26   \n",
       "185           1            465                3.08                  61.84   \n",
       "186           2             24                1.33                  20.04   \n",
       "\n",
       "     Deaths / 100 Recovered  Confirmed last week  1 week change  \\\n",
       "0                      5.04                35526            737   \n",
       "1                      5.25                 4171            709   \n",
       "2                      6.17                23691           4282   \n",
       "3                      6.48                  884             23   \n",
       "4                     16.94                  749            201   \n",
       "..                      ...                  ...            ...   \n",
       "182                    2.08                 8916           1705   \n",
       "183                   12.50                   10              0   \n",
       "184                   57.98                 1619             72   \n",
       "185                    4.97                 3326           1226   \n",
       "186                    6.64                 1713            991   \n",
       "\n",
       "     1 week % increase             WHO Region            location        date  \\\n",
       "0                 2.07  Eastern Mediterranean         Afghanistan  2021-01-01   \n",
       "1                17.00                 Europe             Albania  2021-01-01   \n",
       "2                18.07                 Africa             Algeria  2021-01-01   \n",
       "3                 2.60                 Europe             Andorra  2021-01-01   \n",
       "4                26.84                 Africa              Angola  2021-01-01   \n",
       "..                 ...                    ...                 ...         ...   \n",
       "182              19.12  Eastern Mediterranean  West Bank and Gaza  2021-01-01   \n",
       "183               0.00                 Africa                 NaN         NaN   \n",
       "184               4.45  Eastern Mediterranean               Yemen  2021-01-01   \n",
       "185              36.86                 Africa              Zambia  2021-01-01   \n",
       "186              57.85                 Africa            Zimbabwe  2021-01-01   \n",
       "\n",
       "     stringency_index  null_count  \n",
       "0               12.04           0  \n",
       "1               56.48           0  \n",
       "2               72.22           0  \n",
       "3               52.78           0  \n",
       "4               65.74           0  \n",
       "..                ...         ...  \n",
       "182             68.06           0  \n",
       "183             47.92           3  \n",
       "184             27.78           0  \n",
       "185             50.93           0  \n",
       "186             69.44           0  \n",
       "\n",
       "[187 rows x 19 columns]"
      ],
      "text/html": [
       "<div>\n",
       "<style scoped>\n",
       "    .dataframe tbody tr th:only-of-type {\n",
       "        vertical-align: middle;\n",
       "    }\n",
       "\n",
       "    .dataframe tbody tr th {\n",
       "        vertical-align: top;\n",
       "    }\n",
       "\n",
       "    .dataframe thead th {\n",
       "        text-align: right;\n",
       "    }\n",
       "</style>\n",
       "<table border=\"1\" class=\"dataframe\">\n",
       "  <thead>\n",
       "    <tr style=\"text-align: right;\">\n",
       "      <th></th>\n",
       "      <th>Country</th>\n",
       "      <th>Confirmed</th>\n",
       "      <th>Deaths</th>\n",
       "      <th>Recovered</th>\n",
       "      <th>Active</th>\n",
       "      <th>New cases</th>\n",
       "      <th>New deaths</th>\n",
       "      <th>New recovered</th>\n",
       "      <th>Deaths / 100 Cases</th>\n",
       "      <th>Recovered / 100 Cases</th>\n",
       "      <th>Deaths / 100 Recovered</th>\n",
       "      <th>Confirmed last week</th>\n",
       "      <th>1 week change</th>\n",
       "      <th>1 week % increase</th>\n",
       "      <th>WHO Region</th>\n",
       "      <th>location</th>\n",
       "      <th>date</th>\n",
       "      <th>stringency_index</th>\n",
       "      <th>null_count</th>\n",
       "    </tr>\n",
       "  </thead>\n",
       "  <tbody>\n",
       "    <tr>\n",
       "      <th>0</th>\n",
       "      <td>Afghanistan</td>\n",
       "      <td>36263</td>\n",
       "      <td>1269</td>\n",
       "      <td>25198</td>\n",
       "      <td>9796</td>\n",
       "      <td>106</td>\n",
       "      <td>10</td>\n",
       "      <td>18</td>\n",
       "      <td>3.50</td>\n",
       "      <td>69.49</td>\n",
       "      <td>5.04</td>\n",
       "      <td>35526</td>\n",
       "      <td>737</td>\n",
       "      <td>2.07</td>\n",
       "      <td>Eastern Mediterranean</td>\n",
       "      <td>Afghanistan</td>\n",
       "      <td>2021-01-01</td>\n",
       "      <td>12.04</td>\n",
       "      <td>0</td>\n",
       "    </tr>\n",
       "    <tr>\n",
       "      <th>1</th>\n",
       "      <td>Albania</td>\n",
       "      <td>4880</td>\n",
       "      <td>144</td>\n",
       "      <td>2745</td>\n",
       "      <td>1991</td>\n",
       "      <td>117</td>\n",
       "      <td>6</td>\n",
       "      <td>63</td>\n",
       "      <td>2.95</td>\n",
       "      <td>56.25</td>\n",
       "      <td>5.25</td>\n",
       "      <td>4171</td>\n",
       "      <td>709</td>\n",
       "      <td>17.00</td>\n",
       "      <td>Europe</td>\n",
       "      <td>Albania</td>\n",
       "      <td>2021-01-01</td>\n",
       "      <td>56.48</td>\n",
       "      <td>0</td>\n",
       "    </tr>\n",
       "    <tr>\n",
       "      <th>2</th>\n",
       "      <td>Algeria</td>\n",
       "      <td>27973</td>\n",
       "      <td>1163</td>\n",
       "      <td>18837</td>\n",
       "      <td>7973</td>\n",
       "      <td>616</td>\n",
       "      <td>8</td>\n",
       "      <td>749</td>\n",
       "      <td>4.16</td>\n",
       "      <td>67.34</td>\n",
       "      <td>6.17</td>\n",
       "      <td>23691</td>\n",
       "      <td>4282</td>\n",
       "      <td>18.07</td>\n",
       "      <td>Africa</td>\n",
       "      <td>Algeria</td>\n",
       "      <td>2021-01-01</td>\n",
       "      <td>72.22</td>\n",
       "      <td>0</td>\n",
       "    </tr>\n",
       "    <tr>\n",
       "      <th>3</th>\n",
       "      <td>Andorra</td>\n",
       "      <td>907</td>\n",
       "      <td>52</td>\n",
       "      <td>803</td>\n",
       "      <td>52</td>\n",
       "      <td>10</td>\n",
       "      <td>0</td>\n",
       "      <td>0</td>\n",
       "      <td>5.73</td>\n",
       "      <td>88.53</td>\n",
       "      <td>6.48</td>\n",
       "      <td>884</td>\n",
       "      <td>23</td>\n",
       "      <td>2.60</td>\n",
       "      <td>Europe</td>\n",
       "      <td>Andorra</td>\n",
       "      <td>2021-01-01</td>\n",
       "      <td>52.78</td>\n",
       "      <td>0</td>\n",
       "    </tr>\n",
       "    <tr>\n",
       "      <th>4</th>\n",
       "      <td>Angola</td>\n",
       "      <td>950</td>\n",
       "      <td>41</td>\n",
       "      <td>242</td>\n",
       "      <td>667</td>\n",
       "      <td>18</td>\n",
       "      <td>1</td>\n",
       "      <td>0</td>\n",
       "      <td>4.32</td>\n",
       "      <td>25.47</td>\n",
       "      <td>16.94</td>\n",
       "      <td>749</td>\n",
       "      <td>201</td>\n",
       "      <td>26.84</td>\n",
       "      <td>Africa</td>\n",
       "      <td>Angola</td>\n",
       "      <td>2021-01-01</td>\n",
       "      <td>65.74</td>\n",
       "      <td>0</td>\n",
       "    </tr>\n",
       "    <tr>\n",
       "      <th>...</th>\n",
       "      <td>...</td>\n",
       "      <td>...</td>\n",
       "      <td>...</td>\n",
       "      <td>...</td>\n",
       "      <td>...</td>\n",
       "      <td>...</td>\n",
       "      <td>...</td>\n",
       "      <td>...</td>\n",
       "      <td>...</td>\n",
       "      <td>...</td>\n",
       "      <td>...</td>\n",
       "      <td>...</td>\n",
       "      <td>...</td>\n",
       "      <td>...</td>\n",
       "      <td>...</td>\n",
       "      <td>...</td>\n",
       "      <td>...</td>\n",
       "      <td>...</td>\n",
       "      <td>...</td>\n",
       "    </tr>\n",
       "    <tr>\n",
       "      <th>182</th>\n",
       "      <td>West Bank and Gaza</td>\n",
       "      <td>10621</td>\n",
       "      <td>78</td>\n",
       "      <td>3752</td>\n",
       "      <td>6791</td>\n",
       "      <td>152</td>\n",
       "      <td>2</td>\n",
       "      <td>0</td>\n",
       "      <td>0.73</td>\n",
       "      <td>35.33</td>\n",
       "      <td>2.08</td>\n",
       "      <td>8916</td>\n",
       "      <td>1705</td>\n",
       "      <td>19.12</td>\n",
       "      <td>Eastern Mediterranean</td>\n",
       "      <td>West Bank and Gaza</td>\n",
       "      <td>2021-01-01</td>\n",
       "      <td>68.06</td>\n",
       "      <td>0</td>\n",
       "    </tr>\n",
       "    <tr>\n",
       "      <th>183</th>\n",
       "      <td>Western Sahara</td>\n",
       "      <td>10</td>\n",
       "      <td>1</td>\n",
       "      <td>8</td>\n",
       "      <td>1</td>\n",
       "      <td>0</td>\n",
       "      <td>0</td>\n",
       "      <td>0</td>\n",
       "      <td>10.00</td>\n",
       "      <td>80.00</td>\n",
       "      <td>12.50</td>\n",
       "      <td>10</td>\n",
       "      <td>0</td>\n",
       "      <td>0.00</td>\n",
       "      <td>Africa</td>\n",
       "      <td>NaN</td>\n",
       "      <td>NaN</td>\n",
       "      <td>47.92</td>\n",
       "      <td>3</td>\n",
       "    </tr>\n",
       "    <tr>\n",
       "      <th>184</th>\n",
       "      <td>Yemen</td>\n",
       "      <td>1691</td>\n",
       "      <td>483</td>\n",
       "      <td>833</td>\n",
       "      <td>375</td>\n",
       "      <td>10</td>\n",
       "      <td>4</td>\n",
       "      <td>36</td>\n",
       "      <td>28.56</td>\n",
       "      <td>49.26</td>\n",
       "      <td>57.98</td>\n",
       "      <td>1619</td>\n",
       "      <td>72</td>\n",
       "      <td>4.45</td>\n",
       "      <td>Eastern Mediterranean</td>\n",
       "      <td>Yemen</td>\n",
       "      <td>2021-01-01</td>\n",
       "      <td>27.78</td>\n",
       "      <td>0</td>\n",
       "    </tr>\n",
       "    <tr>\n",
       "      <th>185</th>\n",
       "      <td>Zambia</td>\n",
       "      <td>4552</td>\n",
       "      <td>140</td>\n",
       "      <td>2815</td>\n",
       "      <td>1597</td>\n",
       "      <td>71</td>\n",
       "      <td>1</td>\n",
       "      <td>465</td>\n",
       "      <td>3.08</td>\n",
       "      <td>61.84</td>\n",
       "      <td>4.97</td>\n",
       "      <td>3326</td>\n",
       "      <td>1226</td>\n",
       "      <td>36.86</td>\n",
       "      <td>Africa</td>\n",
       "      <td>Zambia</td>\n",
       "      <td>2021-01-01</td>\n",
       "      <td>50.93</td>\n",
       "      <td>0</td>\n",
       "    </tr>\n",
       "    <tr>\n",
       "      <th>186</th>\n",
       "      <td>Zimbabwe</td>\n",
       "      <td>2704</td>\n",
       "      <td>36</td>\n",
       "      <td>542</td>\n",
       "      <td>2126</td>\n",
       "      <td>192</td>\n",
       "      <td>2</td>\n",
       "      <td>24</td>\n",
       "      <td>1.33</td>\n",
       "      <td>20.04</td>\n",
       "      <td>6.64</td>\n",
       "      <td>1713</td>\n",
       "      <td>991</td>\n",
       "      <td>57.85</td>\n",
       "      <td>Africa</td>\n",
       "      <td>Zimbabwe</td>\n",
       "      <td>2021-01-01</td>\n",
       "      <td>69.44</td>\n",
       "      <td>0</td>\n",
       "    </tr>\n",
       "  </tbody>\n",
       "</table>\n",
       "<p>187 rows × 19 columns</p>\n",
       "</div>"
      ]
     },
     "execution_count": 32,
     "metadata": {},
     "output_type": "execute_result"
    }
   ],
   "execution_count": 32
  },
  {
   "metadata": {
    "ExecuteTime": {
     "end_time": "2024-07-09T15:30:38.860212Z",
     "start_time": "2024-07-09T15:30:38.847887Z"
    }
   },
   "cell_type": "code",
   "source": "merged_df.loc(merged_df.drop(['location', 'date', 'null_count'], axis=1, inplace=True))",
   "id": "a4f8f23beb1cd1f3",
   "outputs": [
    {
     "data": {
      "text/plain": [
       "<pandas.core.indexing._LocIndexer at 0x24506770550>"
      ]
     },
     "execution_count": 33,
     "metadata": {},
     "output_type": "execute_result"
    }
   ],
   "execution_count": 33
  },
  {
   "metadata": {
    "ExecuteTime": {
     "end_time": "2024-07-09T15:30:38.887422Z",
     "start_time": "2024-07-09T15:30:38.860212Z"
    }
   },
   "cell_type": "code",
   "source": "merged_df.to_csv(\"covid19.csv\", index=False)",
   "id": "928d47ec8768658",
   "outputs": [],
   "execution_count": 34
  },
  {
   "metadata": {
    "ExecuteTime": {
     "end_time": "2024-07-09T15:30:38.894846Z",
     "start_time": "2024-07-09T15:30:38.888931Z"
    }
   },
   "cell_type": "code",
   "source": "# ------------ Note to Self, We reruning the notebook to perform more experiments",
   "id": "e03734be74e5d9fa",
   "outputs": [],
   "execution_count": 35
  },
  {
   "metadata": {
    "ExecuteTime": {
     "end_time": "2024-07-09T15:30:38.930431Z",
     "start_time": "2024-07-09T15:30:38.894846Z"
    }
   },
   "cell_type": "code",
   "source": "covid_df = pd.read_csv(\"covid19.csv\")",
   "id": "bf4d0e55d2c5e34a",
   "outputs": [],
   "execution_count": 36
  },
  {
   "metadata": {},
   "cell_type": "markdown",
   "source": "Analyze Distribution of Strigency Index",
   "id": "99e98e3937eecadd"
  },
  {
   "metadata": {
    "ExecuteTime": {
     "end_time": "2024-07-09T15:30:39.470776Z",
     "start_time": "2024-07-09T15:30:38.930431Z"
    }
   },
   "cell_type": "code",
   "source": [
    "plt.hist(covid_df['stringency_index'], bins=20, edgecolor='black')\n",
    "plt.xlabel('Stringency Index')\n",
    "plt.ylabel('Frequency')\n",
    "plt.title(\"Stringency Index Distribution\")\n",
    "plt.show()"
   ],
   "id": "7fcd7406b4d5a1ac",
   "outputs": [
    {
     "data": {
      "text/plain": [
       "<Figure size 640x480 with 1 Axes>"
      ],
      "image/png": "[encoded data removed]"
     },
     "metadata": {},
     "output_type": "display_data"
    }
   ],
   "execution_count": 37
  },
  {
   "metadata": {},
   "cell_type": "markdown",
   "source": "Define Thresholds Using Quantiles",
   "id": "a9f53008c381065f"
  },
  {
   "metadata": {
    "ExecuteTime": {
     "end_time": "2024-07-09T15:30:39.493894Z",
     "start_time": "2024-07-09T15:30:39.474811Z"
    }
   },
   "cell_type": "code",
   "source": [
    "quantiles = covid_df['stringency_index'].quantile([0.33, 0.66])\n",
    "low_threshold = quantiles[0.33]\n",
    "high_threshold = quantiles[0.66]"
   ],
   "id": "e66c2b0ed387e557",
   "outputs": [],
   "execution_count": 38
  },
  {
   "metadata": {
    "ExecuteTime": {
     "end_time": "2024-07-09T15:30:39.509160Z",
     "start_time": "2024-07-09T15:30:39.493894Z"
    }
   },
   "cell_type": "code",
   "source": [
    "print(f\"Low threshold: {low_threshold}\")\n",
    "print(f\"High threshold: {high_threshold}\")"
   ],
   "id": "b610e5f1f4dd0096",
   "outputs": [
    {
     "name": "stdout",
     "output_type": "stream",
     "text": [
      "Low threshold: 51.85\n",
      "High threshold: 67.59\n"
     ]
    }
   ],
   "execution_count": 39
  },
  {
   "metadata": {},
   "cell_type": "markdown",
   "source": "Apply Categorization",
   "id": "bf06335188f1afa0"
  },
  {
   "metadata": {
    "ExecuteTime": {
     "end_time": "2024-07-09T15:30:39.526758Z",
     "start_time": "2024-07-09T15:30:39.509160Z"
    }
   },
   "cell_type": "code",
   "source": [
    "def categorize_stringency(index):\n",
    "    if index <= low_threshold:\n",
    "        return 'Low'\n",
    "    elif index <= high_threshold:\n",
    "        return 'Medium'\n",
    "    else:\n",
    "        return 'High'"
   ],
   "id": "e68e5165f52539c5",
   "outputs": [],
   "execution_count": 40
  },
  {
   "metadata": {
    "ExecuteTime": {
     "end_time": "2024-07-09T15:30:39.548834Z",
     "start_time": "2024-07-09T15:30:39.538784Z"
    }
   },
   "cell_type": "code",
   "source": "covid_df['stringency_category'] = covid_df['stringency_index'].apply(categorize_stringency)",
   "id": "4579eb94c7acefe4",
   "outputs": [],
   "execution_count": 41
  },
  {
   "metadata": {
    "ExecuteTime": {
     "end_time": "2024-07-09T15:31:44.518996Z",
     "start_time": "2024-07-09T15:31:42.661879Z"
    }
   },
   "cell_type": "code",
   "source": [
    "file_path = 'covid19.csv'\n",
    "data = pd.read_csv(file_path)\n",
    "\n",
    "# Predefined dictionary of countries with their respective latitude and longitude\n",
    "country_coords = {\n",
    "    \"Afghanistan\": (33.93911, 67.709953),\n",
    "    \"Albania\": (41.153332, 20.168331),\n",
    "    \"Algeria\": (28.033886, 1.659626),\n",
    "    \"Andorra\": (42.546245, 1.601554),\n",
    "    \"Angola\": (-11.202692, 17.873887),\n",
    "    \"Antigua and Barbuda\": (17.060816, -61.796428),\n",
    "    \"Argentina\": (-38.416097, -63.616672),\n",
    "    \"Armenia\": (40.069099, 45.038189),\n",
    "    \"Australia\": (-25.274398, 133.775136),\n",
    "    \"Austria\": (47.516231, 14.550072),\n",
    "    \"Azerbaijan\": (40.143105, 47.576927),\n",
    "    \"Bahamas\": (25.03428, -77.39628),\n",
    "    \"Bahrain\": (25.930414, 50.637772),\n",
    "    \"Bangladesh\": (23.684994, 90.356331),\n",
    "    \"Barbados\": (13.193887, -59.543198),\n",
    "    \"Belarus\": (53.709807, 27.953389),\n",
    "    \"Belgium\": (50.503887, 4.469936),\n",
    "    \"Belize\": (17.189877, -88.49765),\n",
    "    \"Benin\": (9.30769, 2.315834),\n",
    "    \"Bhutan\": (27.514162, 90.433601),\n",
    "    \"Bolivia\": (-16.290154, -63.588653),\n",
    "    \"Bosnia and Herzegovina\": (43.915886, 17.679076),\n",
    "    \"Botswana\": (-22.328474, 24.684866),\n",
    "    \"Brazil\": (-14.235004, -51.92528),\n",
    "    \"Brunei\": (4.535277, 114.727669),\n",
    "    \"Bulgaria\": (42.733883, 25.48583),\n",
    "    \"Burkina Faso\": (12.238333, -1.561593),\n",
    "    \"Burundi\": (-3.373056, 29.918886),\n",
    "    \"Cabo Verde\": (16.002082, -24.013197),\n",
    "    \"Cambodia\": (12.565679, 104.990963),\n",
    "    \"Cameroon\": (7.369722, 12.354722),\n",
    "    \"Canada\": (56.130366, -106.346771),\n",
    "    \"Central African Republic\": (6.611111, 20.939444),\n",
    "    \"Chad\": (15.454166, 18.732207),\n",
    "    \"Chile\": (-35.675147, -71.542969),\n",
    "    \"China\": (35.86166, 104.195397),\n",
    "    \"Colombia\": (4.570868, -74.297333),\n",
    "    \"Comoros\": (-11.875001, 43.872219),\n",
    "    \"Congo (Congo-Brazzaville)\": (-0.228021, 15.827659),\n",
    "    \"Costa Rica\": (9.748917, -83.753428),\n",
    "    \"Croatia\": (45.1, 15.2),\n",
    "    \"Cuba\": (21.521757, -77.781167),\n",
    "    \"Cyprus\": (35.126413, 33.429859),\n",
    "    \"Czechia (Czech Republic)\": (49.817492, 15.472962),\n",
    "    \"Denmark\": (56.26392, 9.501785),\n",
    "    \"Djibouti\": (11.825138, 42.590275),\n",
    "    \"Dominica\": (15.414999, -61.370976),\n",
    "    \"Dominican Republic\": (18.735693, -70.162651),\n",
    "    \"Ecuador\": (-1.831239, -78.183406),\n",
    "    \"Egypt\": (26.820553, 30.802498),\n",
    "    \"El Salvador\": (13.794185, -88.89653),\n",
    "    \"Equatorial Guinea\": (1.650801, 10.267895),\n",
    "    \"Eritrea\": (15.179384, 39.782334),\n",
    "    \"Estonia\": (58.595272, 25.013607),\n",
    "    \"Ethiopia\": (9.145, 40.489673),\n",
    "    \"Fiji\": (-17.713371, 178.065032),\n",
    "    \"Finland\": (61.92411, 25.748151),\n",
    "    \"France\": (46.603354, 1.888334),\n",
    "    \"Gabon\": (-0.803689, 11.609444),\n",
    "    \"Gambia\": (13.443182, -15.310139),\n",
    "    \"Georgia\": (42.315407, 43.356892),\n",
    "    \"Germany\": (51.165691, 10.451526),\n",
    "    \"Ghana\": (7.946527, -1.023194),\n",
    "    \"Greece\": (39.074208, 21.824312),\n",
    "    \"Grenada\": (12.262776, -61.604171),\n",
    "    \"Guatemala\": (15.783471, -90.230759),\n",
    "    \"Guinea\": (9.945587, -9.696645),\n",
    "    \"Guinea-Bissau\": (11.803749, -15.180413),\n",
    "    \"Guyana\": (4.860416, -58.93018),\n",
    "    \"Haiti\": (18.971187, -72.285215),\n",
    "    \"Honduras\": (15.199999, -86.241905),\n",
    "    \"Hungary\": (47.162494, 19.503304),\n",
    "    \"Iceland\": (64.963051, -19.020835),\n",
    "    \"India\": (20.593684, 78.96288),\n",
    "    \"Indonesia\": (-0.789275, 113.921327),\n",
    "    \"Iran\": (32.427908, 53.688046),\n",
    "    \"Iraq\": (33.223191, 43.679291),\n",
    "    \"Ireland\": (53.41291, -8.24389),\n",
    "    \"Israel\": (31.046051, 34.851612),\n",
    "    \"Italy\": (41.87194, 12.56738),\n",
    "    \"Jamaica\": (18.109581, -77.297508),\n",
    "    \"Japan\": (36.204824, 138.252924),\n",
    "    \"Jordan\": (30.585164, 36.238414),\n",
    "    \"Kazakhstan\": (48.019573, 66.923684),\n",
    "    \"Kenya\": (-0.023559, 37.906193),\n",
    "    \"Kiribati\": (-3.370417, -168.734039),\n",
    "    \"Kuwait\": (29.31166, 47.481766),\n",
    "    \"Kyrgyzstan\": (41.20438, 74.766098),\n",
    "    \"Laos\": (19.85627, 102.495496),\n",
    "    \"Latvia\": (56.879635, 24.603189),\n",
    "    \"Lebanon\": (33.854721, 35.862285),\n",
    "    \"Lesotho\": (-29.609988, 28.233608),\n",
    "    \"Liberia\": (6.428055, -9.429499),\n",
    "    \"Libya\": (26.3351, 17.228331),\n",
    "    \"Liechtenstein\": (47.166, 9.555373),\n",
    "    \"Lithuania\": (55.169438, 23.881275),\n",
    "    \"Luxembourg\": (49.815273, 6.129583),\n",
    "    \"Madagascar\": (-18.766947, 46.869107),\n",
    "    \"Malawi\": (-13.254308, 34.301525),\n",
    "    \"Malaysia\": (4.210484, 101.975766),\n",
    "    \"Maldives\": (3.202778, 73.22068),\n",
    "    \"Mali\": (17.570692, -3.996166),\n",
    "    \"Malta\": (35.937496, 14.375416),\n",
    "    \"Marshall Islands\": (7.131474, 171.184478),\n",
    "    \"Mauritania\": (21.00789, -10.940835),\n",
    "    \"Mauritius\": (-20.348404, 57.552152),\n",
    "    \"Mexico\": (23.634501, -102.552784),\n",
    "    \"Micronesia\": (7.425554, 150.550812),\n",
    "    \"Moldova\": (47.411631, 28.369885),\n",
    "    \"Monaco\": (43.750298, 7.412841),\n",
    "    \"Mongolia\": (46.862496, 103.846656),\n",
    "    \"Montenegro\": (42.708678, 19.37439),\n",
    "    \"Morocco\": (31.791702, -7.09262),\n",
    "    \"Mozambique\": (-18.665695, 35.529),\n",
    "    \"Namibia\": (-22.95764, 18.49041),\n",
    "    \"Nepal\": (28.394857, 84.124008),\n",
    "    \"Netherlands\": (52.132633, 5.291266),\n",
    "    \"New Zealand\": (-40.900557, 174.885971),\n",
    "    \"Nicaragua\": (12.865416, -85.207229),\n",
    "    \"Niger\": (17.607789, 8.081666),\n",
    "    \"Nigeria\": (9.081999, 8.675277),\n",
    "    \"North Macedonia\": (41.608635, 21.745275),\n",
    "    \"Norway\": (60.472024, 8.468946),\n",
    "    \"Oman\": (21.512583, 55.923255),\n",
    "    \"Pakistan\": (30.375321, 69.345116),\n",
    "    \"Panama\": (8.537981, -80.782127),\n",
    "    \"Papua New Guinea\": (-6.314993, 143.95555),\n",
    "    \"Paraguay\": (-23.442503, -58.443832),\n",
    "    \"Peru\": (-9.189967, -75.015152),\n",
    "    \"Philippines\": (12.879721, 121.774017),\n",
    "    \"Poland\": (51.919438, 19.145136),\n",
    "    \"Portugal\": (39.399872, -8.224454),\n",
    "    \"Qatar\": (25.354826, 51.183884),\n",
    "    \"Romania\": (45.943161, 24.96676),\n",
    "    \"Russia\": (61.52401, 105.318756),\n",
    "    \"Rwanda\": (-1.940278, 29.873888),\n",
    "    \"Saint Kitts and Nevis\": (17.357822, -62.782998),\n",
    "    \"Saint Lucia\": (13.909444, -60.978893),\n",
    "    \"Saint Vincent and the Grenadines\": (12.984305, -61.287228),\n",
    "    \"San Marino\": (43.94236, 12.457777),\n",
    "    \"Sao Tome and Principe\": (0.18636, 6.613081),\n",
    "    \"Saudi Arabia\": (23.885942, 45.079162),\n",
    "    \"Senegal\": (14.497401, -14.452362),\n",
    "    \"Serbia\": (44.016521, 21.005859),\n",
    "    \"Seychelles\": (-4.679574, 55.491977),\n",
    "    \"Sierra Leone\": (8.460555, -11.779889),\n",
    "    \"Singapore\": (1.352083, 103.819836),\n",
    "    \"Slovakia\": (48.669026, 19.699024),\n",
    "    \"Slovenia\": (46.151241, 14.995463),\n",
    "    \"Somalia\": (5.152149, 46.199616),\n",
    "    \"South Africa\": (-30.559482, 22.937506),\n",
    "    \"South Korea\": (35.907757, 127.766922),\n",
    "    \"South Sudan\": (4.859363, 31.571251),\n",
    "    \"Spain\": (40.463667, -3.74922),\n",
    "    \"Sri Lanka\": (7.873054, 80.771797),\n",
    "    \"Sudan\": (12.862807, 30.217636),\n",
    "    \"Suriname\": (3.919305, -56.027783),\n",
    "    \"Sweden\": (60.128161, 18.643501),\n",
    "    \"Switzerland\": (46.818188, 8.227512),\n",
    "    \"Syria\": (34.802075, 38.996815),\n",
    "    \"Taiwan*\": (23.69781, 120.960515),\n",
    "    \"Tajikistan\": (38.861034, 71.276093),\n",
    "    \"Tanzania\": (-6.369028, 34.888822),\n",
    "    \"Thailand\": (15.870032, 100.992541),\n",
    "    \"Timor-Leste\": (-8.874217, 125.727539),\n",
    "    \"Togo\": (8.619543, 0.824782),\n",
    "    \"Trinidad and Tobago\": (10.691803, -61.222503),\n",
    "    \"Tunisia\": (33.886917, 9.537499),\n",
    "    \"Turkey\": (38.963745, 35.243322),\n",
    "    \"US\": (37.09024, -95.712891),\n",
    "    \"Uganda\": (1.373333, 32.290275),\n",
    "    \"Ukraine\": (48.379433, 31.16558),\n",
    "    \"United Arab Emirates\": (23.424076, 53.847818),\n",
    "    \"United Kingdom\": (55.378051, -3.435973),\n",
    "    \"Uruguay\": (-32.522779, -55.765835),\n",
    "    \"Uzbekistan\": (41.377491, 64.585262),\n",
    "    \"Venezuela\": (6.42375, -66.58973),\n",
    "    \"Vietnam\": (14.058324, 108.277199),\n",
    "    \"West Bank and Gaza\": (31.952162, 35.233154),\n",
    "    \"Western Sahara\": (24.215527, -12.885834),\n",
    "    \"Yemen\": (15.552727, 48.516388),\n",
    "    \"Zambia\": (-13.133897, 27.849332),\n",
    "    \"Zimbabwe\": (-19.015438, 29.154857)\n",
    "}\n",
    "\n",
    "\n",
    "# Function to get latitude and longitude from predefined dictionary\n",
    "def get_lat_lon(country):\n",
    "    return pd.Series(country_coords.get(country, (None, None)))\n",
    "\n",
    "\n",
    "# Add latitude and longitude columns\n",
    "data[['Latitude', 'Longitude']] = data['Country'].apply(get_lat_lon)\n",
    "\n",
    "# Save the updated dataframe to a new CSV file\n",
    "output_file_path = 'covid19.csv'\n",
    "data.to_csv(output_file_path, index=False)\n",
    "\n",
    "# Display the first few rows of the updated dataframe\n",
    "print(data.head())"
   ],
   "id": "ef7ec36cf696e901",
   "outputs": [
    {
     "name": "stdout",
     "output_type": "stream",
     "text": [
      "       Country  Confirmed  Deaths  Recovered  Active  New cases  New deaths  \\\n",
      "0  Afghanistan      36263    1269      25198    9796        106          10   \n",
      "1      Albania       4880     144       2745    1991        117           6   \n",
      "2      Algeria      27973    1163      18837    7973        616           8   \n",
      "3      Andorra        907      52        803      52         10           0   \n",
      "4       Angola        950      41        242     667         18           1   \n",
      "\n",
      "   New recovered  Deaths / 100 Cases  Recovered / 100 Cases  \\\n",
      "0             18                3.50                  69.49   \n",
      "1             63                2.95                  56.25   \n",
      "2            749                4.16                  67.34   \n",
      "3              0                5.73                  88.53   \n",
      "4              0                4.32                  25.47   \n",
      "\n",
      "   Deaths / 100 Recovered  Confirmed last week  1 week change  \\\n",
      "0                    5.04                35526            737   \n",
      "1                    5.25                 4171            709   \n",
      "2                    6.17                23691           4282   \n",
      "3                    6.48                  884             23   \n",
      "4                   16.94                  749            201   \n",
      "\n",
      "   1 week % increase             WHO Region  stringency_index   Latitude  \\\n",
      "0               2.07  Eastern Mediterranean             12.04  33.939110   \n",
      "1              17.00                 Europe             56.48  41.153332   \n",
      "2              18.07                 Africa             72.22  28.033886   \n",
      "3               2.60                 Europe             52.78  42.546245   \n",
      "4              26.84                 Africa             65.74 -11.202692   \n",
      "\n",
      "   Longitude  \n",
      "0  67.709953  \n",
      "1  20.168331  \n",
      "2   1.659626  \n",
      "3   1.601554  \n",
      "4  17.873887  \n"
     ]
    }
   ],
   "execution_count": 43
  },
  {
   "metadata": {
    "ExecuteTime": {
     "end_time": "2024-07-09T15:30:41.767470Z",
     "start_time": "2024-07-09T15:30:41.767470Z"
    }
   },
   "cell_type": "code",
   "source": "",
   "id": "7e5a3f3654de4f6",
   "outputs": [],
   "execution_count": null
  },
  {
   "metadata": {},
   "cell_type": "code",
   "source": "",
   "id": "dc6763b772ddcd9e",
   "outputs": [],
   "execution_count": null
  }
 ],
 "metadata": {
  "kernelspec": {
   "display_name": "Python 3",
   "language": "python",
   "name": "python3"
  },
  "language_info": {
   "codemirror_mode": {
    "name": "ipython",
    "version": 2
   },
   "file_extension": ".py",
   "mimetype": "text/x-python",
   "name": "python",
   "nbconvert_exporter": "python",
   "pygments_lexer": "ipython2",
   "version": "2.7.6"
  }
 },
 "nbformat": 4,
 "nbformat_minor": 5
}
